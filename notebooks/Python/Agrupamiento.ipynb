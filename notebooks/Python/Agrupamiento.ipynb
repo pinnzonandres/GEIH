{
 "cells": [
  {
   "cell_type": "markdown",
   "metadata": {},
   "source": [
    "# Agrupamiento de Niveles\n",
    "En el siguiente notebook se va a agrupar ciertos niveles de las variables categóricas con una frecuencia baja, el tratamiento será en las siguientes variables:\n",
    "- Parentesco con el jefe del hogar\n",
    "- ETNIA\n",
    "- DISCAPACIDADES\n",
    "- FINANCIEROS"
   ]
  },
  {
   "cell_type": "code",
   "execution_count": 44,
   "metadata": {},
   "outputs": [],
   "source": [
    "# Carga de librerias\n",
    "import pandas as pd\n",
    "import os"
   ]
  },
  {
   "cell_type": "code",
   "execution_count": 45,
   "metadata": {},
   "outputs": [],
   "source": [
    "# Carga del conjunto de datos consolidado\n",
    "path= r\"C:\\Users\\andre\\OneDrive\\Escritorio\\Proyecto de Grado\\result\\db_consolidado_procesado\"\n",
    "month= 'Enero'\n",
    "ruta_carga= os.path.join(path, month + '_Procesado.csv')\n",
    "data= pd.read_csv(ruta_carga, sep= ';', encoding= 'latin-1')"
   ]
  },
  {
   "cell_type": "code",
   "execution_count": 46,
   "metadata": {},
   "outputs": [
    {
     "data": {
      "text/html": [
       "<div>\n",
       "<style scoped>\n",
       "    .dataframe tbody tr th:only-of-type {\n",
       "        vertical-align: middle;\n",
       "    }\n",
       "\n",
       "    .dataframe tbody tr th {\n",
       "        vertical-align: top;\n",
       "    }\n",
       "\n",
       "    .dataframe thead th {\n",
       "        text-align: right;\n",
       "    }\n",
       "</style>\n",
       "<table border=\"1\" class=\"dataframe\">\n",
       "  <thead>\n",
       "    <tr style=\"text-align: right;\">\n",
       "      <th></th>\n",
       "      <th>DIRECTORIO</th>\n",
       "      <th>ZONA_TERRITORIAL</th>\n",
       "      <th>FACTOR_EXPANSION</th>\n",
       "      <th>DPTO</th>\n",
       "      <th>SEXO</th>\n",
       "      <th>EDAD</th>\n",
       "      <th>PARENTESCO_JEFE_DE_HOGAR</th>\n",
       "      <th>MADRE_RESIDE_HOGAR</th>\n",
       "      <th>PADRE_RESIDE_HOGAR</th>\n",
       "      <th>SE_CONSIDERA_CAMPESINO</th>\n",
       "      <th>...</th>\n",
       "      <th>HOGAR_TIENE_CUENTA_AHORROS</th>\n",
       "      <th>HOGAR_TIENE_CDT</th>\n",
       "      <th>HOGAR_TIENE_PRESTAMO_COMPRA_VIVIENDA</th>\n",
       "      <th>HOGAR_TIENE_PRESTAMO_COMPRA_VEHICULO</th>\n",
       "      <th>HOGAR_TIENE_PRESTAMO_LIBRE_INVERSION</th>\n",
       "      <th>HOGAR_TIENE_TARJETA_CREDITO</th>\n",
       "      <th>HOGAR_TIENE_OTRO_FINANCIERO</th>\n",
       "      <th>HOGAR_TIENE_NINGUNO_DE_ESTOS</th>\n",
       "      <th>HOGAR_NO_SABE_FINANCIERO</th>\n",
       "      <th>NUMERO_PERSONAS_HOGAR</th>\n",
       "    </tr>\n",
       "  </thead>\n",
       "  <tbody>\n",
       "    <tr>\n",
       "      <th>0</th>\n",
       "      <td>7309060</td>\n",
       "      <td>Cabecera</td>\n",
       "      <td>1580.677273</td>\n",
       "      <td>CUNDINAMARCA</td>\n",
       "      <td>Masculino</td>\n",
       "      <td>27</td>\n",
       "      <td>Pareja, esposo(a), conyuge, companero(a)</td>\n",
       "      <td>No</td>\n",
       "      <td>No</td>\n",
       "      <td>Si</td>\n",
       "      <td>...</td>\n",
       "      <td>Si</td>\n",
       "      <td>No</td>\n",
       "      <td>No</td>\n",
       "      <td>No</td>\n",
       "      <td>No</td>\n",
       "      <td>No</td>\n",
       "      <td>No</td>\n",
       "      <td>No</td>\n",
       "      <td>No</td>\n",
       "      <td>3</td>\n",
       "    </tr>\n",
       "    <tr>\n",
       "      <th>1</th>\n",
       "      <td>7309064</td>\n",
       "      <td>Resto</td>\n",
       "      <td>324.598262</td>\n",
       "      <td>RISALRALDA</td>\n",
       "      <td>Masculino</td>\n",
       "      <td>18</td>\n",
       "      <td>Hijo(a), hijastro(a)</td>\n",
       "      <td>Si</td>\n",
       "      <td>No</td>\n",
       "      <td>Si</td>\n",
       "      <td>...</td>\n",
       "      <td>Si</td>\n",
       "      <td>No</td>\n",
       "      <td>No</td>\n",
       "      <td>No</td>\n",
       "      <td>No</td>\n",
       "      <td>No</td>\n",
       "      <td>No</td>\n",
       "      <td>No</td>\n",
       "      <td>No</td>\n",
       "      <td>5</td>\n",
       "    </tr>\n",
       "    <tr>\n",
       "      <th>2</th>\n",
       "      <td>7309067</td>\n",
       "      <td>Resto</td>\n",
       "      <td>167.457366</td>\n",
       "      <td>RISALRALDA</td>\n",
       "      <td>Femenino</td>\n",
       "      <td>25</td>\n",
       "      <td>Hijo(a), hijastro(a)</td>\n",
       "      <td>No</td>\n",
       "      <td>Si</td>\n",
       "      <td>Si</td>\n",
       "      <td>...</td>\n",
       "      <td>Si</td>\n",
       "      <td>No</td>\n",
       "      <td>No</td>\n",
       "      <td>No</td>\n",
       "      <td>No</td>\n",
       "      <td>No</td>\n",
       "      <td>No</td>\n",
       "      <td>No</td>\n",
       "      <td>No</td>\n",
       "      <td>2</td>\n",
       "    </tr>\n",
       "    <tr>\n",
       "      <th>3</th>\n",
       "      <td>7309073</td>\n",
       "      <td>Resto</td>\n",
       "      <td>202.189536</td>\n",
       "      <td>RISALRALDA</td>\n",
       "      <td>Femenino</td>\n",
       "      <td>27</td>\n",
       "      <td>Hijo(a), hijastro(a)</td>\n",
       "      <td>Si</td>\n",
       "      <td>No</td>\n",
       "      <td>Si</td>\n",
       "      <td>...</td>\n",
       "      <td>Si</td>\n",
       "      <td>No</td>\n",
       "      <td>No</td>\n",
       "      <td>No</td>\n",
       "      <td>No</td>\n",
       "      <td>No</td>\n",
       "      <td>No</td>\n",
       "      <td>No</td>\n",
       "      <td>No</td>\n",
       "      <td>6</td>\n",
       "    </tr>\n",
       "    <tr>\n",
       "      <th>4</th>\n",
       "      <td>7309073</td>\n",
       "      <td>Resto</td>\n",
       "      <td>202.189536</td>\n",
       "      <td>RISALRALDA</td>\n",
       "      <td>Femenino</td>\n",
       "      <td>23</td>\n",
       "      <td>Hijo(a), hijastro(a)</td>\n",
       "      <td>Si</td>\n",
       "      <td>No</td>\n",
       "      <td>Si</td>\n",
       "      <td>...</td>\n",
       "      <td>Si</td>\n",
       "      <td>No</td>\n",
       "      <td>No</td>\n",
       "      <td>No</td>\n",
       "      <td>No</td>\n",
       "      <td>No</td>\n",
       "      <td>No</td>\n",
       "      <td>No</td>\n",
       "      <td>No</td>\n",
       "      <td>6</td>\n",
       "    </tr>\n",
       "  </tbody>\n",
       "</table>\n",
       "<p>5 rows × 56 columns</p>\n",
       "</div>"
      ],
      "text/plain": [
       "   DIRECTORIO ZONA_TERRITORIAL  FACTOR_EXPANSION          DPTO       SEXO  \\\n",
       "0     7309060         Cabecera       1580.677273  CUNDINAMARCA  Masculino   \n",
       "1     7309064            Resto        324.598262    RISALRALDA  Masculino   \n",
       "2     7309067            Resto        167.457366    RISALRALDA   Femenino   \n",
       "3     7309073            Resto        202.189536    RISALRALDA   Femenino   \n",
       "4     7309073            Resto        202.189536    RISALRALDA   Femenino   \n",
       "\n",
       "   EDAD                  PARENTESCO_JEFE_DE_HOGAR MADRE_RESIDE_HOGAR  \\\n",
       "0    27  Pareja, esposo(a), conyuge, companero(a)                 No   \n",
       "1    18                      Hijo(a), hijastro(a)                 Si   \n",
       "2    25                      Hijo(a), hijastro(a)                 No   \n",
       "3    27                      Hijo(a), hijastro(a)                 Si   \n",
       "4    23                      Hijo(a), hijastro(a)                 Si   \n",
       "\n",
       "  PADRE_RESIDE_HOGAR SE_CONSIDERA_CAMPESINO  ... HOGAR_TIENE_CUENTA_AHORROS  \\\n",
       "0                 No                     Si  ...                         Si   \n",
       "1                 No                     Si  ...                         Si   \n",
       "2                 Si                     Si  ...                         Si   \n",
       "3                 No                     Si  ...                         Si   \n",
       "4                 No                     Si  ...                         Si   \n",
       "\n",
       "  HOGAR_TIENE_CDT HOGAR_TIENE_PRESTAMO_COMPRA_VIVIENDA  \\\n",
       "0              No                                   No   \n",
       "1              No                                   No   \n",
       "2              No                                   No   \n",
       "3              No                                   No   \n",
       "4              No                                   No   \n",
       "\n",
       "  HOGAR_TIENE_PRESTAMO_COMPRA_VEHICULO HOGAR_TIENE_PRESTAMO_LIBRE_INVERSION  \\\n",
       "0                                   No                                   No   \n",
       "1                                   No                                   No   \n",
       "2                                   No                                   No   \n",
       "3                                   No                                   No   \n",
       "4                                   No                                   No   \n",
       "\n",
       "  HOGAR_TIENE_TARJETA_CREDITO HOGAR_TIENE_OTRO_FINANCIERO  \\\n",
       "0                          No                          No   \n",
       "1                          No                          No   \n",
       "2                          No                          No   \n",
       "3                          No                          No   \n",
       "4                          No                          No   \n",
       "\n",
       "  HOGAR_TIENE_NINGUNO_DE_ESTOS HOGAR_NO_SABE_FINANCIERO NUMERO_PERSONAS_HOGAR  \n",
       "0                           No                       No                     3  \n",
       "1                           No                       No                     5  \n",
       "2                           No                       No                     2  \n",
       "3                           No                       No                     6  \n",
       "4                           No                       No                     6  \n",
       "\n",
       "[5 rows x 56 columns]"
      ]
     },
     "execution_count": 46,
     "metadata": {},
     "output_type": "execute_result"
    }
   ],
   "source": [
    "data.head()"
   ]
  },
  {
   "cell_type": "code",
   "execution_count": 47,
   "metadata": {},
   "outputs": [],
   "source": [
    "# Función que se realiza el cambio necesario\n",
    "def replace_values(df, column, mapping):\n",
    "    df[column] = df[column].replace(mapping)\n",
    "    return df"
   ]
  },
  {
   "cell_type": "markdown",
   "metadata": {},
   "source": [
    "## Parentesco Jefe de Hogar"
   ]
  },
  {
   "cell_type": "code",
   "execution_count": 48,
   "metadata": {},
   "outputs": [
    {
     "data": {
      "text/plain": [
       "PARENTESCO_JEFE_DE_HOGAR\n",
       "Hijo(a), hijastro(a)                                  3212\n",
       "Jefe (a) del hogar                                    1804\n",
       "Pareja, esposo(a), conyuge, companero(a)               749\n",
       "Nieto(a)                                               339\n",
       "Otro  pariente                                         244\n",
       "Hermano(a) o hermanastro(a)                            186\n",
       "Yerno o nuera                                          186\n",
       "Otro no pariente                                       154\n",
       "Empleado(a) del servicio domestico y sus parientes      17\n",
       "Trabajador                                               5\n",
       "Suegro(a)                                                3\n",
       "Pensionista                                              2\n",
       "Padre o madre                                            1\n",
       "Name: count, dtype: int64"
      ]
     },
     "execution_count": 48,
     "metadata": {},
     "output_type": "execute_result"
    }
   ],
   "source": [
    "data['PARENTESCO_JEFE_DE_HOGAR'].value_counts()"
   ]
  },
  {
   "cell_type": "code",
   "execution_count": 49,
   "metadata": {},
   "outputs": [],
   "source": [
    "jefe = {\n",
    "    'Padre o madre':'Otro pariente',\n",
    "    'Suegro(a)':'Otro pariente',\n",
    "    'Yerno o nuera':'Otro pariente',\n",
    "    'Nieto(a)':'Otro pariente',\n",
    "    'Otro  pariente':'Otro pariente',\n",
    "    'Empleado(a) del servicio domestico y sus parientes':'No pariente',\n",
    "    'Pensionista':'No pariente',\n",
    "    'Trabajador':'No pariente',\n",
    "    'Otro no pariente':'No pariente'\n",
    "}"
   ]
  },
  {
   "cell_type": "code",
   "execution_count": 50,
   "metadata": {},
   "outputs": [],
   "source": [
    "data['PARENTESCO_JEFE_DE_HOGAR'] = data['PARENTESCO_JEFE_DE_HOGAR'].replace(jefe)"
   ]
  },
  {
   "cell_type": "code",
   "execution_count": 51,
   "metadata": {},
   "outputs": [
    {
     "data": {
      "text/plain": [
       "PARENTESCO_JEFE_DE_HOGAR\n",
       "Hijo(a), hijastro(a)                        3212\n",
       "Jefe (a) del hogar                          1804\n",
       "Otro pariente                                773\n",
       "Pareja, esposo(a), conyuge, companero(a)     749\n",
       "Hermano(a) o hermanastro(a)                  186\n",
       "No pariente                                  178\n",
       "Name: count, dtype: int64"
      ]
     },
     "execution_count": 51,
     "metadata": {},
     "output_type": "execute_result"
    }
   ],
   "source": [
    "data['PARENTESCO_JEFE_DE_HOGAR'].value_counts()"
   ]
  },
  {
   "cell_type": "markdown",
   "metadata": {},
   "source": [
    "## ETNIA"
   ]
  },
  {
   "cell_type": "code",
   "execution_count": 52,
   "metadata": {},
   "outputs": [
    {
     "data": {
      "text/plain": [
       "ETNIA\n",
       "Ninguno de los anteriores           6161\n",
       "Negro, mulato (afrodescendiente)     509\n",
       "Indigena                             210\n",
       "Raizal del archipielago               19\n",
       "Palenquero                             2\n",
       "Gitano (Rom)                           1\n",
       "Name: count, dtype: int64"
      ]
     },
     "execution_count": 52,
     "metadata": {},
     "output_type": "execute_result"
    }
   ],
   "source": [
    "data['ETNIA'].value_counts()"
   ]
  },
  {
   "cell_type": "code",
   "execution_count": 53,
   "metadata": {},
   "outputs": [],
   "source": [
    "etnia = {\n",
    "    'Gitano (Rom)': 'Otra etnia',\n",
    "    'Raizal del archipielago':'Otra etnia',\n",
    "    'Palenquero':'Otra etnia',\n",
    "    }"
   ]
  },
  {
   "cell_type": "code",
   "execution_count": 54,
   "metadata": {},
   "outputs": [],
   "source": [
    "data['ETNIA'] = data['ETNIA'].replace(etnia)"
   ]
  },
  {
   "cell_type": "code",
   "execution_count": 55,
   "metadata": {},
   "outputs": [
    {
     "data": {
      "text/plain": [
       "ETNIA\n",
       "Ninguno de los anteriores           6161\n",
       "Negro, mulato (afrodescendiente)     509\n",
       "Indigena                             210\n",
       "Otra etnia                            22\n",
       "Name: count, dtype: int64"
      ]
     },
     "execution_count": 55,
     "metadata": {},
     "output_type": "execute_result"
    }
   ],
   "source": [
    "data['ETNIA'].value_counts()"
   ]
  },
  {
   "cell_type": "markdown",
   "metadata": {},
   "source": [
    "## DISCAPACIDADES\n",
    "Para el tratamiento de las discapacidades, se va a consolidar en una única variable con la siguiente codificación:\n",
    "\n",
    "**Sin discapacidad:**\n",
    "Nivel 4 en todas las variables de dificultad.\n",
    "\n",
    "**Discapacidad leve:**\n",
    "Nivel 3 en una o dos variables de dificultad.\n",
    "Nivel 2 en una variable de dificultad, sin presencia de Nivel 3 en ninguna variable.\n",
    "\n",
    "**Discapacidad moderada:**\n",
    "Nivel 3 en tres o más variables de dificultad.\n",
    "Nivel 2 en dos o más variables de dificultad, con presencia de Nivel 3 en al menos una variable.\n",
    "\n",
    "**Discapacidad grave:**\n",
    "Nivel 1 en cualquier variable de dificultad.\n",
    "Nivel 2 en tres o más variables de dificultad."
   ]
  },
  {
   "cell_type": "code",
   "execution_count": 56,
   "metadata": {},
   "outputs": [
    {
     "data": {
      "text/plain": [
       "DIFICULTAD_OIR\n",
       "Sin dificultad               6864\n",
       "Si, con alguna dificultad      27\n",
       "Si, con mucha dificultad       10\n",
       "No puede hacerlo                1\n",
       "Name: count, dtype: int64"
      ]
     },
     "execution_count": 56,
     "metadata": {},
     "output_type": "execute_result"
    }
   ],
   "source": [
    "data['DIFICULTAD_OIR'].value_counts()"
   ]
  },
  {
   "cell_type": "code",
   "execution_count": 57,
   "metadata": {},
   "outputs": [],
   "source": [
    "disc_num = {\n",
    "    'No puede hacerlo':1,\n",
    "    'Si, con mucha dificultad':2,\n",
    "    'Si, con alguna dificultad':3,\n",
    "    'Sin dificultad':4}"
   ]
  },
  {
   "cell_type": "code",
   "execution_count": 58,
   "metadata": {},
   "outputs": [],
   "source": [
    "discapacidades = ['DIFICULTAD_OIR',\n",
    "                  'DIFICULTAD_HABLAR',\n",
    "                  'DIFICULTAD_VER',\n",
    "                  'DIFICULTAD_MOVER_SUBIR_BAJAR',\n",
    "                  'DIFICULTAD_AGARRAR',\n",
    "                  'DIFICULTAD_ENTENDER',\n",
    "                  'DIFICULTAD_BANARSE_VESTIRSE',\n",
    "                  'DIFICULTAD_RELACIONARSE']"
   ]
  },
  {
   "cell_type": "code",
   "execution_count": 59,
   "metadata": {},
   "outputs": [
    {
     "name": "stderr",
     "output_type": "stream",
     "text": [
      "C:\\Users\\andre\\AppData\\Local\\Temp\\ipykernel_19888\\2736953229.py:2: FutureWarning: Downcasting behavior in `replace` is deprecated and will be removed in a future version. To retain the old behavior, explicitly call `result.infer_objects(copy=False)`. To opt-in to the future behavior, set `pd.set_option('future.no_silent_downcasting', True)`\n",
      "  data[col] = data[col].replace(disc_num)\n"
     ]
    }
   ],
   "source": [
    "for col in discapacidades:\n",
    "    data[col] = data[col].replace(disc_num)"
   ]
  },
  {
   "cell_type": "code",
   "execution_count": 62,
   "metadata": {},
   "outputs": [
    {
     "data": {
      "text/plain": [
       "True"
      ]
     },
     "execution_count": 62,
     "metadata": {},
     "output_type": "execute_result"
    }
   ],
   "source": [
    "all(data[col][1] == 4 for col in discapacidades)"
   ]
  },
  {
   "cell_type": "code",
   "execution_count": 78,
   "metadata": {},
   "outputs": [],
   "source": [
    "def agrupar_dificultades(df):\n",
    "  \"\"\"\n",
    "  Esta función agrupa las dificultades de una persona en las siguientes categorías:\n",
    "  * Sin discapacidad\n",
    "  * Discapacidad leve\n",
    "  * Discapacidad moderada\n",
    "  * Discapacidad grave\n",
    "\n",
    "  Parámetros:\n",
    "    df: Un DataFrame de Pandas que contiene las variables de dificultad.\n",
    "\n",
    "  Retorno:\n",
    "    Una serie de Pandas que contiene la categoría de discapacidad para cada persona.\n",
    "  \"\"\"\n",
    "\n",
    "  # Inicialización de la variable que guarda la categoría de discapacidad\n",
    "  discapacidad = []\n",
    "\n",
    "  # Recorrido por cada fila del DataFrame\n",
    "  for i in range(df.shape[0]):\n",
    "    # Conteo de las apariciones de cada nivel de dificultad\n",
    "    niveles = df.iloc[i,:].value_counts()\n",
    "    for i in [1,2,3,4]:\n",
    "        try:\n",
    "            niveles[i]\n",
    "        except: \n",
    "            niveles[i] = 0\n",
    "        \n",
    "\n",
    "    # Categorización de la discapacidad\n",
    "    if niveles[4] == 8:\n",
    "      discapacidad.append(\"Sin discapacidad\")\n",
    "    elif niveles[3] <= 2 and niveles[2] <= 1:\n",
    "      discapacidad.append(\"Discapacidad leve\")\n",
    "    elif niveles[3] >= 3 or (niveles[3] >= 1 and niveles[2] >= 2):\n",
    "      discapacidad.append(\"Discapacidad moderada\")\n",
    "    else:\n",
    "      discapacidad.append(\"Discapacidad grave\")\n",
    "\n",
    "  return pd.Series(discapacidad, name=\"Discapacidad\")\n",
    "\n",
    "# Agrupación de las dificultades\n",
    "data[\"DISCAPACIDAD\"] = agrupar_dificultades(data[discapacidades])"
   ]
  },
  {
   "cell_type": "code",
   "execution_count": 79,
   "metadata": {},
   "outputs": [
    {
     "data": {
      "text/plain": [
       "DISCAPACIDAD\n",
       "Sin discapacidad         6516\n",
       "Discapacidad leve         373\n",
       "Discapacidad moderada       9\n",
       "Discapacidad grave          4\n",
       "Name: count, dtype: int64"
      ]
     },
     "execution_count": 79,
     "metadata": {},
     "output_type": "execute_result"
    }
   ],
   "source": [
    "data['DISCAPACIDAD'].value_counts()"
   ]
  },
  {
   "cell_type": "code",
   "execution_count": 80,
   "metadata": {},
   "outputs": [
    {
     "data": {
      "text/plain": [
       "6902"
      ]
     },
     "execution_count": 80,
     "metadata": {},
     "output_type": "execute_result"
    }
   ],
   "source": [
    "data['DISCAPACIDAD'].count()"
   ]
  },
  {
   "cell_type": "code",
   "execution_count": 81,
   "metadata": {},
   "outputs": [],
   "source": [
    "data = data.drop(columns=discapacidades)"
   ]
  },
  {
   "cell_type": "markdown",
   "metadata": {},
   "source": [
    "## Mayor Nivel Educativo"
   ]
  },
  {
   "cell_type": "code",
   "execution_count": 83,
   "metadata": {},
   "outputs": [
    {
     "data": {
      "text/plain": [
       "MAYOR_NIVEL_EDUCATIVO\n",
       "Media academica (Bachillerato clasico)    2796\n",
       "Universitaria                             1367\n",
       "Basica secundaria (6o - 9o)                854\n",
       "Tecnica profesional                        790\n",
       "Basica primaria (1o - 5o)                  350\n",
       "Tecnologica                                318\n",
       "Media tecnica (Bachillerato tecnico)       280\n",
       "Especializacion                             76\n",
       "Ninguno                                     33\n",
       "Maestria                                    24\n",
       "Normalista                                  13\n",
       "Doctorado                                    1\n",
       "Name: count, dtype: int64"
      ]
     },
     "execution_count": 83,
     "metadata": {},
     "output_type": "execute_result"
    }
   ],
   "source": [
    "data['MAYOR_NIVEL_EDUCATIVO'].value_counts()"
   ]
  },
  {
   "cell_type": "code",
   "execution_count": 87,
   "metadata": {},
   "outputs": [],
   "source": [
    "educacion = {\n",
    "    'Especializacion ':'Postgrado',\n",
    "    'Maestria ':'Postgrado',\n",
    "    'Doctorado ':'Postgrado'\n",
    "}"
   ]
  },
  {
   "cell_type": "code",
   "execution_count": 88,
   "metadata": {},
   "outputs": [],
   "source": [
    "data['MAYOR_NIVEL_EDUCATIVO'] = data['MAYOR_NIVEL_EDUCATIVO'].replace(educacion)"
   ]
  },
  {
   "cell_type": "code",
   "execution_count": 89,
   "metadata": {},
   "outputs": [
    {
     "data": {
      "text/plain": [
       "MAYOR_NIVEL_EDUCATIVO\n",
       "Media academica (Bachillerato clasico)    2796\n",
       "Universitaria                             1367\n",
       "Basica secundaria (6o - 9o)                854\n",
       "Tecnica profesional                        790\n",
       "Basica primaria (1o - 5o)                  350\n",
       "Tecnologica                                318\n",
       "Media tecnica (Bachillerato tecnico)       280\n",
       "Postgrado                                  101\n",
       "Ninguno                                     33\n",
       "Normalista                                  13\n",
       "Name: count, dtype: int64"
      ]
     },
     "execution_count": 89,
     "metadata": {},
     "output_type": "execute_result"
    }
   ],
   "source": [
    "data['MAYOR_NIVEL_EDUCATIVO'].value_counts()"
   ]
  },
  {
   "cell_type": "code",
   "execution_count": null,
   "metadata": {},
   "outputs": [],
   "source": []
  }
 ],
 "metadata": {
  "kernelspec": {
   "display_name": "venv",
   "language": "python",
   "name": "python3"
  },
  "language_info": {
   "codemirror_mode": {
    "name": "ipython",
    "version": 3
   },
   "file_extension": ".py",
   "mimetype": "text/x-python",
   "name": "python",
   "nbconvert_exporter": "python",
   "pygments_lexer": "ipython3",
   "version": "3.10.6"
  }
 },
 "nbformat": 4,
 "nbformat_minor": 2
}
