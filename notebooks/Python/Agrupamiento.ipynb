{
 "cells": [
  {
   "cell_type": "markdown",
   "metadata": {},
   "source": [
    "# Agrupamiento de Niveles\n",
    "En el siguiente notebook se va a agrupar ciertos niveles de las variables categóricas con una frecuencia baja, el tratamiento será en las siguientes variables:\n",
    "- Parentesco con el jefe del hogar\n",
    "- ETNIA\n",
    "- DISCAPACIDADES\n",
    "- FINANCIEROS"
   ]
  },
  {
   "cell_type": "code",
   "execution_count": 2,
   "metadata": {},
   "outputs": [],
   "source": [
    "# Carga de librerias\n",
    "import pandas as pd\n",
    "import os"
   ]
  },
  {
   "cell_type": "code",
   "execution_count": 3,
   "metadata": {},
   "outputs": [],
   "source": [
    "# Carga del conjunto de datos consolidado\n",
    "path= r\"C:\\Users\\andre\\OneDrive\\Escritorio\\Proyecto de Grado\\result\\db_consolidado_procesado\"\n",
    "month= 'Enero'\n",
    "ruta_carga= os.path.join(path, month + '_Procesado.csv')\n",
    "data= pd.read_csv(ruta_carga, sep= ';', encoding= 'latin-1')"
   ]
  },
  {
   "cell_type": "code",
   "execution_count": 4,
   "metadata": {},
   "outputs": [
    {
     "data": {
      "text/html": [
       "<div>\n",
       "<style scoped>\n",
       "    .dataframe tbody tr th:only-of-type {\n",
       "        vertical-align: middle;\n",
       "    }\n",
       "\n",
       "    .dataframe tbody tr th {\n",
       "        vertical-align: top;\n",
       "    }\n",
       "\n",
       "    .dataframe thead th {\n",
       "        text-align: right;\n",
       "    }\n",
       "</style>\n",
       "<table border=\"1\" class=\"dataframe\">\n",
       "  <thead>\n",
       "    <tr style=\"text-align: right;\">\n",
       "      <th></th>\n",
       "      <th>DIRECTORIO</th>\n",
       "      <th>ZONA_TERRITORIAL</th>\n",
       "      <th>FACTOR_EXPANSION</th>\n",
       "      <th>DPTO</th>\n",
       "      <th>SEXO</th>\n",
       "      <th>EDAD</th>\n",
       "      <th>PARENTESCO_JEFE_DE_HOGAR</th>\n",
       "      <th>MADRE_RESIDE_HOGAR</th>\n",
       "      <th>PADRE_RESIDE_HOGAR</th>\n",
       "      <th>SE_CONSIDERA_CAMPESINO</th>\n",
       "      <th>...</th>\n",
       "      <th>HOGAR_TIENE_CUENTA_AHORROS</th>\n",
       "      <th>HOGAR_TIENE_CDT</th>\n",
       "      <th>HOGAR_TIENE_PRESTAMO_COMPRA_VIVIENDA</th>\n",
       "      <th>HOGAR_TIENE_PRESTAMO_COMPRA_VEHICULO</th>\n",
       "      <th>HOGAR_TIENE_PRESTAMO_LIBRE_INVERSION</th>\n",
       "      <th>HOGAR_TIENE_TARJETA_CREDITO</th>\n",
       "      <th>HOGAR_TIENE_OTRO_FINANCIERO</th>\n",
       "      <th>HOGAR_TIENE_NINGUNO_DE_ESTOS</th>\n",
       "      <th>HOGAR_NO_SABE_FINANCIERO</th>\n",
       "      <th>NUMERO_PERSONAS_HOGAR</th>\n",
       "    </tr>\n",
       "  </thead>\n",
       "  <tbody>\n",
       "    <tr>\n",
       "      <th>0</th>\n",
       "      <td>7309060</td>\n",
       "      <td>Cabecera</td>\n",
       "      <td>1580.677273</td>\n",
       "      <td>CUNDINAMARCA</td>\n",
       "      <td>Masculino</td>\n",
       "      <td>27</td>\n",
       "      <td>Pareja, esposo(a), conyuge, companero(a)</td>\n",
       "      <td>No</td>\n",
       "      <td>No</td>\n",
       "      <td>Si</td>\n",
       "      <td>...</td>\n",
       "      <td>Si</td>\n",
       "      <td>No</td>\n",
       "      <td>No</td>\n",
       "      <td>No</td>\n",
       "      <td>No</td>\n",
       "      <td>No</td>\n",
       "      <td>No</td>\n",
       "      <td>No</td>\n",
       "      <td>No</td>\n",
       "      <td>3</td>\n",
       "    </tr>\n",
       "    <tr>\n",
       "      <th>1</th>\n",
       "      <td>7309064</td>\n",
       "      <td>Resto</td>\n",
       "      <td>324.598262</td>\n",
       "      <td>RISALRALDA</td>\n",
       "      <td>Masculino</td>\n",
       "      <td>18</td>\n",
       "      <td>Hijo(a), hijastro(a)</td>\n",
       "      <td>Si</td>\n",
       "      <td>No</td>\n",
       "      <td>Si</td>\n",
       "      <td>...</td>\n",
       "      <td>Si</td>\n",
       "      <td>No</td>\n",
       "      <td>No</td>\n",
       "      <td>No</td>\n",
       "      <td>No</td>\n",
       "      <td>No</td>\n",
       "      <td>No</td>\n",
       "      <td>No</td>\n",
       "      <td>No</td>\n",
       "      <td>5</td>\n",
       "    </tr>\n",
       "    <tr>\n",
       "      <th>2</th>\n",
       "      <td>7309067</td>\n",
       "      <td>Resto</td>\n",
       "      <td>167.457366</td>\n",
       "      <td>RISALRALDA</td>\n",
       "      <td>Femenino</td>\n",
       "      <td>25</td>\n",
       "      <td>Hijo(a), hijastro(a)</td>\n",
       "      <td>No</td>\n",
       "      <td>Si</td>\n",
       "      <td>Si</td>\n",
       "      <td>...</td>\n",
       "      <td>Si</td>\n",
       "      <td>No</td>\n",
       "      <td>No</td>\n",
       "      <td>No</td>\n",
       "      <td>No</td>\n",
       "      <td>No</td>\n",
       "      <td>No</td>\n",
       "      <td>No</td>\n",
       "      <td>No</td>\n",
       "      <td>2</td>\n",
       "    </tr>\n",
       "    <tr>\n",
       "      <th>3</th>\n",
       "      <td>7309073</td>\n",
       "      <td>Resto</td>\n",
       "      <td>202.189536</td>\n",
       "      <td>RISALRALDA</td>\n",
       "      <td>Femenino</td>\n",
       "      <td>27</td>\n",
       "      <td>Hijo(a), hijastro(a)</td>\n",
       "      <td>Si</td>\n",
       "      <td>No</td>\n",
       "      <td>Si</td>\n",
       "      <td>...</td>\n",
       "      <td>Si</td>\n",
       "      <td>No</td>\n",
       "      <td>No</td>\n",
       "      <td>No</td>\n",
       "      <td>No</td>\n",
       "      <td>No</td>\n",
       "      <td>No</td>\n",
       "      <td>No</td>\n",
       "      <td>No</td>\n",
       "      <td>6</td>\n",
       "    </tr>\n",
       "    <tr>\n",
       "      <th>4</th>\n",
       "      <td>7309073</td>\n",
       "      <td>Resto</td>\n",
       "      <td>202.189536</td>\n",
       "      <td>RISALRALDA</td>\n",
       "      <td>Femenino</td>\n",
       "      <td>23</td>\n",
       "      <td>Hijo(a), hijastro(a)</td>\n",
       "      <td>Si</td>\n",
       "      <td>No</td>\n",
       "      <td>Si</td>\n",
       "      <td>...</td>\n",
       "      <td>Si</td>\n",
       "      <td>No</td>\n",
       "      <td>No</td>\n",
       "      <td>No</td>\n",
       "      <td>No</td>\n",
       "      <td>No</td>\n",
       "      <td>No</td>\n",
       "      <td>No</td>\n",
       "      <td>No</td>\n",
       "      <td>6</td>\n",
       "    </tr>\n",
       "  </tbody>\n",
       "</table>\n",
       "<p>5 rows × 56 columns</p>\n",
       "</div>"
      ],
      "text/plain": [
       "   DIRECTORIO ZONA_TERRITORIAL  FACTOR_EXPANSION          DPTO       SEXO  \\\n",
       "0     7309060         Cabecera       1580.677273  CUNDINAMARCA  Masculino   \n",
       "1     7309064            Resto        324.598262    RISALRALDA  Masculino   \n",
       "2     7309067            Resto        167.457366    RISALRALDA   Femenino   \n",
       "3     7309073            Resto        202.189536    RISALRALDA   Femenino   \n",
       "4     7309073            Resto        202.189536    RISALRALDA   Femenino   \n",
       "\n",
       "   EDAD                  PARENTESCO_JEFE_DE_HOGAR MADRE_RESIDE_HOGAR  \\\n",
       "0    27  Pareja, esposo(a), conyuge, companero(a)                 No   \n",
       "1    18                      Hijo(a), hijastro(a)                 Si   \n",
       "2    25                      Hijo(a), hijastro(a)                 No   \n",
       "3    27                      Hijo(a), hijastro(a)                 Si   \n",
       "4    23                      Hijo(a), hijastro(a)                 Si   \n",
       "\n",
       "  PADRE_RESIDE_HOGAR SE_CONSIDERA_CAMPESINO  ... HOGAR_TIENE_CUENTA_AHORROS  \\\n",
       "0                 No                     Si  ...                         Si   \n",
       "1                 No                     Si  ...                         Si   \n",
       "2                 Si                     Si  ...                         Si   \n",
       "3                 No                     Si  ...                         Si   \n",
       "4                 No                     Si  ...                         Si   \n",
       "\n",
       "  HOGAR_TIENE_CDT HOGAR_TIENE_PRESTAMO_COMPRA_VIVIENDA  \\\n",
       "0              No                                   No   \n",
       "1              No                                   No   \n",
       "2              No                                   No   \n",
       "3              No                                   No   \n",
       "4              No                                   No   \n",
       "\n",
       "  HOGAR_TIENE_PRESTAMO_COMPRA_VEHICULO HOGAR_TIENE_PRESTAMO_LIBRE_INVERSION  \\\n",
       "0                                   No                                   No   \n",
       "1                                   No                                   No   \n",
       "2                                   No                                   No   \n",
       "3                                   No                                   No   \n",
       "4                                   No                                   No   \n",
       "\n",
       "  HOGAR_TIENE_TARJETA_CREDITO HOGAR_TIENE_OTRO_FINANCIERO  \\\n",
       "0                          No                          No   \n",
       "1                          No                          No   \n",
       "2                          No                          No   \n",
       "3                          No                          No   \n",
       "4                          No                          No   \n",
       "\n",
       "  HOGAR_TIENE_NINGUNO_DE_ESTOS HOGAR_NO_SABE_FINANCIERO NUMERO_PERSONAS_HOGAR  \n",
       "0                           No                       No                     3  \n",
       "1                           No                       No                     5  \n",
       "2                           No                       No                     2  \n",
       "3                           No                       No                     6  \n",
       "4                           No                       No                     6  \n",
       "\n",
       "[5 rows x 56 columns]"
      ]
     },
     "execution_count": 4,
     "metadata": {},
     "output_type": "execute_result"
    }
   ],
   "source": [
    "data.head()"
   ]
  },
  {
   "cell_type": "code",
   "execution_count": 5,
   "metadata": {},
   "outputs": [],
   "source": [
    "# Función que se realiza el cambio necesario\n",
    "def replace_values(df, column, mapping):\n",
    "    df[column] = df[column].replace(mapping)\n",
    "    return df"
   ]
  },
  {
   "cell_type": "markdown",
   "metadata": {},
   "source": [
    "## Parentesco Jefe de Hogar"
   ]
  },
  {
   "cell_type": "code",
   "execution_count": 6,
   "metadata": {},
   "outputs": [
    {
     "data": {
      "text/plain": [
       "PARENTESCO_JEFE_DE_HOGAR\n",
       "Hijo(a), hijastro(a)                                  3212\n",
       "Jefe (a) del hogar                                    1804\n",
       "Pareja, esposo(a), conyuge, companero(a)               749\n",
       "Nieto(a)                                               339\n",
       "Otro  pariente                                         244\n",
       "Hermano(a) o hermanastro(a)                            186\n",
       "Yerno o nuera                                          186\n",
       "Otro no pariente                                       154\n",
       "Empleado(a) del servicio domestico y sus parientes      17\n",
       "Trabajador                                               5\n",
       "Suegro(a)                                                3\n",
       "Pensionista                                              2\n",
       "Padre o madre                                            1\n",
       "Name: count, dtype: int64"
      ]
     },
     "execution_count": 6,
     "metadata": {},
     "output_type": "execute_result"
    }
   ],
   "source": [
    "data['PARENTESCO_JEFE_DE_HOGAR'].value_counts()"
   ]
  },
  {
   "cell_type": "code",
   "execution_count": 7,
   "metadata": {},
   "outputs": [],
   "source": [
    "jefe = {\n",
    "    'Padre o madre':'Otro pariente',\n",
    "    'Suegro(a)':'Otro pariente',\n",
    "    'Yerno o nuera':'Otro pariente',\n",
    "    'Nieto(a)':'Otro pariente',\n",
    "    'Otro  pariente':'Otro pariente',\n",
    "    'Empleado(a) del servicio domestico y sus parientes':'No pariente',\n",
    "    'Pensionista':'No pariente',\n",
    "    'Trabajador':'No pariente',\n",
    "    'Otro no pariente':'No pariente'\n",
    "}"
   ]
  },
  {
   "cell_type": "code",
   "execution_count": 8,
   "metadata": {},
   "outputs": [],
   "source": [
    "data['PARENTESCO_JEFE_DE_HOGAR'] = data['PARENTESCO_JEFE_DE_HOGAR'].replace(jefe)"
   ]
  },
  {
   "cell_type": "code",
   "execution_count": 9,
   "metadata": {},
   "outputs": [
    {
     "data": {
      "text/plain": [
       "PARENTESCO_JEFE_DE_HOGAR\n",
       "Hijo(a), hijastro(a)                        3212\n",
       "Jefe (a) del hogar                          1804\n",
       "Otro pariente                                773\n",
       "Pareja, esposo(a), conyuge, companero(a)     749\n",
       "Hermano(a) o hermanastro(a)                  186\n",
       "No pariente                                  178\n",
       "Name: count, dtype: int64"
      ]
     },
     "execution_count": 9,
     "metadata": {},
     "output_type": "execute_result"
    }
   ],
   "source": [
    "data['PARENTESCO_JEFE_DE_HOGAR'].value_counts()"
   ]
  },
  {
   "cell_type": "markdown",
   "metadata": {},
   "source": [
    "## ETNIA"
   ]
  },
  {
   "cell_type": "code",
   "execution_count": 10,
   "metadata": {},
   "outputs": [
    {
     "data": {
      "text/plain": [
       "ETNIA\n",
       "Ninguno de los anteriores           6161\n",
       "Negro, mulato (afrodescendiente)     509\n",
       "Indigena                             210\n",
       "Raizal del archipielago               19\n",
       "Palenquero                             2\n",
       "Gitano (Rom)                           1\n",
       "Name: count, dtype: int64"
      ]
     },
     "execution_count": 10,
     "metadata": {},
     "output_type": "execute_result"
    }
   ],
   "source": [
    "data['ETNIA'].value_counts()"
   ]
  },
  {
   "cell_type": "code",
   "execution_count": 11,
   "metadata": {},
   "outputs": [],
   "source": [
    "etnia = {\n",
    "    'Gitano (Rom)': 'Otra etnia',\n",
    "    'Raizal del archipielago':'Otra etnia',\n",
    "    'Palenquero':'Otra etnia',\n",
    "    }"
   ]
  },
  {
   "cell_type": "code",
   "execution_count": 12,
   "metadata": {},
   "outputs": [],
   "source": [
    "data['ETNIA'] = data['ETNIA'].replace(etnia)"
   ]
  },
  {
   "cell_type": "code",
   "execution_count": 13,
   "metadata": {},
   "outputs": [
    {
     "data": {
      "text/plain": [
       "ETNIA\n",
       "Ninguno de los anteriores           6161\n",
       "Negro, mulato (afrodescendiente)     509\n",
       "Indigena                             210\n",
       "Otra etnia                            22\n",
       "Name: count, dtype: int64"
      ]
     },
     "execution_count": 13,
     "metadata": {},
     "output_type": "execute_result"
    }
   ],
   "source": [
    "data['ETNIA'].value_counts()"
   ]
  },
  {
   "cell_type": "markdown",
   "metadata": {},
   "source": [
    "## DISCAPACIDADES\n",
    "Para el tratamiento de las discapacidades, se va a consolidar en una única variable con la siguiente codificación:\n",
    "\n",
    "**Sin discapacidad:**\n",
    "Nivel 4 en todas las variables de dificultad.\n",
    "\n",
    "**Discapacidad leve:**\n",
    "Nivel 3 en una o dos variables de dificultad.\n",
    "Nivel 2 en una variable de dificultad, sin presencia de Nivel 3 en ninguna variable.\n",
    "\n",
    "**Discapacidad moderada:**\n",
    "Nivel 3 en tres o más variables de dificultad.\n",
    "Nivel 2 en dos o más variables de dificultad, con presencia de Nivel 3 en al menos una variable.\n",
    "\n",
    "**Discapacidad grave:**\n",
    "Nivel 1 en cualquier variable de dificultad.\n",
    "Nivel 2 en tres o más variables de dificultad."
   ]
  },
  {
   "cell_type": "code",
   "execution_count": 14,
   "metadata": {},
   "outputs": [
    {
     "data": {
      "text/plain": [
       "DIFICULTAD_OIR\n",
       "Sin dificultad               6864\n",
       "Si, con alguna dificultad      27\n",
       "Si, con mucha dificultad       10\n",
       "No puede hacerlo                1\n",
       "Name: count, dtype: int64"
      ]
     },
     "execution_count": 14,
     "metadata": {},
     "output_type": "execute_result"
    }
   ],
   "source": [
    "data['DIFICULTAD_OIR'].value_counts()"
   ]
  },
  {
   "cell_type": "code",
   "execution_count": 15,
   "metadata": {},
   "outputs": [],
   "source": [
    "disc_num = {\n",
    "    'No puede hacerlo':1,\n",
    "    'Si, con mucha dificultad':2,\n",
    "    'Si, con alguna dificultad':3,\n",
    "    'Sin dificultad':4}"
   ]
  },
  {
   "cell_type": "code",
   "execution_count": 16,
   "metadata": {},
   "outputs": [],
   "source": [
    "discapacidades = ['DIFICULTAD_OIR',\n",
    "                  'DIFICULTAD_HABLAR',\n",
    "                  'DIFICULTAD_VER',\n",
    "                  'DIFICULTAD_MOVER_SUBIR_BAJAR',\n",
    "                  'DIFICULTAD_AGARRAR',\n",
    "                  'DIFICULTAD_ENTENDER',\n",
    "                  'DIFICULTAD_BANARSE_VESTIRSE',\n",
    "                  'DIFICULTAD_RELACIONARSE']"
   ]
  },
  {
   "cell_type": "code",
   "execution_count": 17,
   "metadata": {},
   "outputs": [
    {
     "name": "stderr",
     "output_type": "stream",
     "text": [
      "C:\\Users\\andre\\AppData\\Local\\Temp\\ipykernel_36936\\2736953229.py:2: FutureWarning: Downcasting behavior in `replace` is deprecated and will be removed in a future version. To retain the old behavior, explicitly call `result.infer_objects(copy=False)`. To opt-in to the future behavior, set `pd.set_option('future.no_silent_downcasting', True)`\n",
      "  data[col] = data[col].replace(disc_num)\n"
     ]
    }
   ],
   "source": [
    "for col in discapacidades:\n",
    "    data[col] = data[col].replace(disc_num)"
   ]
  },
  {
   "cell_type": "code",
   "execution_count": 18,
   "metadata": {},
   "outputs": [
    {
     "data": {
      "text/plain": [
       "True"
      ]
     },
     "execution_count": 18,
     "metadata": {},
     "output_type": "execute_result"
    }
   ],
   "source": [
    "all(data[col][1] == 4 for col in discapacidades)"
   ]
  },
  {
   "cell_type": "code",
   "execution_count": 19,
   "metadata": {},
   "outputs": [],
   "source": [
    "def agrupar_dificultades(df):\n",
    "  \"\"\"\n",
    "  Esta función agrupa las dificultades de una persona en las siguientes categorías:\n",
    "  * Sin discapacidad\n",
    "  * Discapacidad leve\n",
    "  * Discapacidad moderada\n",
    "  * Discapacidad grave\n",
    "\n",
    "  Parámetros:\n",
    "    df: Un DataFrame de Pandas que contiene las variables de dificultad.\n",
    "\n",
    "  Retorno:\n",
    "    Una serie de Pandas que contiene la categoría de discapacidad para cada persona.\n",
    "  \"\"\"\n",
    "\n",
    "  # Inicialización de la variable que guarda la categoría de discapacidad\n",
    "  discapacidad = []\n",
    "\n",
    "  # Recorrido por cada fila del DataFrame\n",
    "  for i in range(df.shape[0]):\n",
    "    # Conteo de las apariciones de cada nivel de dificultad\n",
    "    niveles = df.iloc[i,:].value_counts()\n",
    "    for i in [1,2,3,4]:\n",
    "        try:\n",
    "            niveles[i]\n",
    "        except: \n",
    "            niveles[i] = 0\n",
    "        \n",
    "\n",
    "    # Categorización de la discapacidad\n",
    "    if niveles[4] == 8:\n",
    "      discapacidad.append(\"Sin discapacidad\")\n",
    "    elif niveles[3] <= 2 and niveles[2] <= 1:\n",
    "      discapacidad.append(\"Discapacidad leve\")\n",
    "    elif niveles[3] >= 3 or (niveles[3] >= 1 and niveles[2] >= 2):\n",
    "      discapacidad.append(\"Discapacidad moderada\")\n",
    "    else:\n",
    "      discapacidad.append(\"Discapacidad grave\")\n",
    "\n",
    "  return pd.Series(discapacidad, name=\"Discapacidad\")\n",
    "\n",
    "# Agrupación de las dificultades\n",
    "data[\"DISCAPACIDAD\"] = agrupar_dificultades(data[discapacidades])"
   ]
  },
  {
   "cell_type": "code",
   "execution_count": 20,
   "metadata": {},
   "outputs": [
    {
     "data": {
      "text/plain": [
       "DISCAPACIDAD\n",
       "Sin discapacidad         6516\n",
       "Discapacidad leve         373\n",
       "Discapacidad moderada       9\n",
       "Discapacidad grave          4\n",
       "Name: count, dtype: int64"
      ]
     },
     "execution_count": 20,
     "metadata": {},
     "output_type": "execute_result"
    }
   ],
   "source": [
    "data['DISCAPACIDAD'].value_counts()"
   ]
  },
  {
   "cell_type": "code",
   "execution_count": 21,
   "metadata": {},
   "outputs": [
    {
     "data": {
      "text/plain": [
       "6902"
      ]
     },
     "execution_count": 21,
     "metadata": {},
     "output_type": "execute_result"
    }
   ],
   "source": [
    "data['DISCAPACIDAD'].count()"
   ]
  },
  {
   "cell_type": "code",
   "execution_count": 22,
   "metadata": {},
   "outputs": [],
   "source": [
    "data = data.drop(columns=discapacidades)"
   ]
  },
  {
   "cell_type": "markdown",
   "metadata": {},
   "source": [
    "## Mayor Nivel Educativo"
   ]
  },
  {
   "cell_type": "code",
   "execution_count": 23,
   "metadata": {},
   "outputs": [
    {
     "data": {
      "text/plain": [
       "MAYOR_NIVEL_EDUCATIVO\n",
       "Media academica (Bachillerato clasico)    2796\n",
       "Universitaria                             1367\n",
       "Basica secundaria (6o - 9o)                854\n",
       "Tecnica profesional                        790\n",
       "Basica primaria (1o - 5o)                  350\n",
       "Tecnologica                                318\n",
       "Media tecnica (Bachillerato tecnico)       280\n",
       "Especializacion                             76\n",
       "Ninguno                                     33\n",
       "Maestria                                    24\n",
       "Normalista                                  13\n",
       "Doctorado                                    1\n",
       "Name: count, dtype: int64"
      ]
     },
     "execution_count": 23,
     "metadata": {},
     "output_type": "execute_result"
    }
   ],
   "source": [
    "data['MAYOR_NIVEL_EDUCATIVO'].value_counts()"
   ]
  },
  {
   "cell_type": "code",
   "execution_count": 24,
   "metadata": {},
   "outputs": [],
   "source": [
    "educacion = {\n",
    "    'Especializacion ':'Postgrado',\n",
    "    'Maestria ':'Postgrado',\n",
    "    'Doctorado ':'Postgrado'\n",
    "}"
   ]
  },
  {
   "cell_type": "code",
   "execution_count": 25,
   "metadata": {},
   "outputs": [],
   "source": [
    "data['MAYOR_NIVEL_EDUCATIVO'] = data['MAYOR_NIVEL_EDUCATIVO'].replace(educacion)"
   ]
  },
  {
   "cell_type": "code",
   "execution_count": 26,
   "metadata": {},
   "outputs": [
    {
     "data": {
      "text/plain": [
       "MAYOR_NIVEL_EDUCATIVO\n",
       "Media academica (Bachillerato clasico)    2796\n",
       "Universitaria                             1367\n",
       "Basica secundaria (6o - 9o)                854\n",
       "Tecnica profesional                        790\n",
       "Basica primaria (1o - 5o)                  350\n",
       "Tecnologica                                318\n",
       "Media tecnica (Bachillerato tecnico)       280\n",
       "Postgrado                                  101\n",
       "Ninguno                                     33\n",
       "Normalista                                  13\n",
       "Name: count, dtype: int64"
      ]
     },
     "execution_count": 26,
     "metadata": {},
     "output_type": "execute_result"
    }
   ],
   "source": [
    "data['MAYOR_NIVEL_EDUCATIVO'].value_counts()"
   ]
  },
  {
   "cell_type": "markdown",
   "metadata": {},
   "source": [
    "## GÉNERO"
   ]
  },
  {
   "cell_type": "code",
   "execution_count": 27,
   "metadata": {},
   "outputs": [],
   "source": [
    "genero = {\n",
    "    'Hombre trans':'Persona Trans',\n",
    "    'Mujer trans': 'Persona Trans',\n",
    "}"
   ]
  },
  {
   "cell_type": "code",
   "execution_count": 28,
   "metadata": {},
   "outputs": [],
   "source": [
    "data['GENERO'] = data['GENERO'].replace(genero)"
   ]
  },
  {
   "cell_type": "markdown",
   "metadata": {},
   "source": [
    "## TIPO DE SANITARIO"
   ]
  },
  {
   "cell_type": "code",
   "execution_count": 29,
   "metadata": {},
   "outputs": [],
   "source": [
    "sanitario = {\n",
    "    'Letrina': 'Otro',\n",
    "    'Bajamar': 'Otro',\n",
    "}"
   ]
  },
  {
   "cell_type": "code",
   "execution_count": 30,
   "metadata": {},
   "outputs": [],
   "source": [
    "data['TIPO_SANITARIO'] = data['TIPO_SANITARIO'].replace(sanitario)"
   ]
  },
  {
   "cell_type": "markdown",
   "metadata": {},
   "source": [
    "## Donde se obtiene el agua"
   ]
  },
  {
   "cell_type": "code",
   "execution_count": 31,
   "metadata": {},
   "outputs": [],
   "source": [
    "agua = {\n",
    "    'De pila pública':'Otro',\n",
    "    'Carrotanque':'Otro',\n",
    "    'Aguatero':'Otro'\n",
    "    \n",
    "}"
   ]
  },
  {
   "cell_type": "code",
   "execution_count": 32,
   "metadata": {},
   "outputs": [],
   "source": [
    "data['DONDE_OBTIENE_AGUA'] = data['DONDE_OBTIENE_AGUA'].replace(agua)"
   ]
  },
  {
   "cell_type": "markdown",
   "metadata": {},
   "source": [
    "## Financieros\n",
    "Para los casos financieros, se van a descartar aquellas columnas rebundantes cómo lo son el caso, de ningún método financiero, no saben si tiene algún metodo financiero o si tiene algún tipo de método financiero distinto a los definidos desde la encuesta"
   ]
  },
  {
   "cell_type": "code",
   "execution_count": 33,
   "metadata": {},
   "outputs": [],
   "source": [
    "data = data.drop(columns = ['HOGAR_TIENE_OTRO_FINANCIERO', 'HOGAR_TIENE_NINGUNO_DE_ESTOS', 'HOGAR_NO_SABE_FINANCIERO'])"
   ]
  },
  {
   "cell_type": "code",
   "execution_count": 34,
   "metadata": {},
   "outputs": [
    {
     "name": "stdout",
     "output_type": "stream",
     "text": [
      "<class 'pandas.core.frame.DataFrame'>\n",
      "RangeIndex: 6902 entries, 0 to 6901\n",
      "Data columns (total 46 columns):\n",
      " #   Column                                Non-Null Count  Dtype  \n",
      "---  ------                                --------------  -----  \n",
      " 0   DIRECTORIO                            6902 non-null   int64  \n",
      " 1   ZONA_TERRITORIAL                      6902 non-null   object \n",
      " 2   FACTOR_EXPANSION                      6902 non-null   float64\n",
      " 3   DPTO                                  6902 non-null   object \n",
      " 4   SEXO                                  6902 non-null   object \n",
      " 5   EDAD                                  6902 non-null   int64  \n",
      " 6   PARENTESCO_JEFE_DE_HOGAR              6902 non-null   object \n",
      " 7   MADRE_RESIDE_HOGAR                    6902 non-null   object \n",
      " 8   PADRE_RESIDE_HOGAR                    6902 non-null   object \n",
      " 9   SE_CONSIDERA_CAMPESINO                6902 non-null   object \n",
      " 10  COMUNIDAD_ES_CAMPESINA                6902 non-null   object \n",
      " 11  ETNIA                                 6902 non-null   object \n",
      " 12  ESTADO_CIVIL                          6902 non-null   object \n",
      " 13  AFILIADO_SALUD                        6902 non-null   object \n",
      " 14  LEER_ESCRIBIR                         6902 non-null   object \n",
      " 15  ACTUALMENTE_ESTUDIA                   6902 non-null   object \n",
      " 16  MAYOR_NIVEL_EDUCATIVO                 6902 non-null   object \n",
      " 17  ORIENTACION_SEXUAL                    6902 non-null   object \n",
      " 18  GENERO                                6902 non-null   object \n",
      " 19  ACTIVIDAD_OCUPADA_ULTIMA_SEMANA       6902 non-null   float64\n",
      " 20  TIPO_VIVIENDA                         6902 non-null   object \n",
      " 21  MATERIAL_PAREDES                      6902 non-null   object \n",
      " 22  MATERIAL_PISOS                        6902 non-null   object \n",
      " 23  SERVICIOS_ENERGIA_ELECTRICA           6902 non-null   object \n",
      " 24  ESTRATO_ENERGIA_ELECTRICA             6902 non-null   object \n",
      " 25  SERVICIOS_GAS_NATURAL                 6902 non-null   object \n",
      " 26  SERVICIOS_ALCANTARILLADO              6902 non-null   object \n",
      " 27  SERVICIOS_RECOLECCION_BASURAS         6902 non-null   object \n",
      " 28  SERVICIOS_ACUEDUCTO                   6902 non-null   object \n",
      " 29  NUMERO_HOGARES_VIVIENDA               6902 non-null   int64  \n",
      " 30  NUMERO_CUARTOS_VIVIENDA               6902 non-null   int64  \n",
      " 31  NUMERO_CUARTOS_DORMIR                 6902 non-null   int64  \n",
      " 32  TIPO_SANITARIO                        6902 non-null   object \n",
      " 33  COMO_ELIMINA_BASURA                   6902 non-null   object \n",
      " 34  DONDE_OBTIENE_AGUA                    6902 non-null   object \n",
      " 35  DONDE_PREPARA_ALIMENTOS               6902 non-null   object \n",
      " 36  TIPO_OCUPACION_VIVIENDA               6902 non-null   object \n",
      " 37  HOGAR_TIENE_CUENTA_CORRIENTE          6902 non-null   object \n",
      " 38  HOGAR_TIENE_CUENTA_AHORROS            6902 non-null   object \n",
      " 39  HOGAR_TIENE_CDT                       6902 non-null   object \n",
      " 40  HOGAR_TIENE_PRESTAMO_COMPRA_VIVIENDA  6902 non-null   object \n",
      " 41  HOGAR_TIENE_PRESTAMO_COMPRA_VEHICULO  6902 non-null   object \n",
      " 42  HOGAR_TIENE_PRESTAMO_LIBRE_INVERSION  6902 non-null   object \n",
      " 43  HOGAR_TIENE_TARJETA_CREDITO           6902 non-null   object \n",
      " 44  NUMERO_PERSONAS_HOGAR                 6902 non-null   int64  \n",
      " 45  DISCAPACIDAD                          6902 non-null   object \n",
      "dtypes: float64(2), int64(6), object(38)\n",
      "memory usage: 2.4+ MB\n"
     ]
    }
   ],
   "source": [
    "data.info()"
   ]
  },
  {
   "cell_type": "markdown",
   "metadata": {},
   "source": [
    "Se van a descartar adicionalmente, aquellas variables relacionadas con los materiales sobre el que está construido la vivienda."
   ]
  },
  {
   "cell_type": "code",
   "execution_count": 35,
   "metadata": {},
   "outputs": [],
   "source": [
    "data = data.drop(columns = ['MATERIAL_PAREDES','MATERIAL_PISOS'])"
   ]
  },
  {
   "cell_type": "code",
   "execution_count": 36,
   "metadata": {},
   "outputs": [
    {
     "name": "stdout",
     "output_type": "stream",
     "text": [
      "<class 'pandas.core.frame.DataFrame'>\n",
      "RangeIndex: 6902 entries, 0 to 6901\n",
      "Data columns (total 44 columns):\n",
      " #   Column                                Non-Null Count  Dtype  \n",
      "---  ------                                --------------  -----  \n",
      " 0   DIRECTORIO                            6902 non-null   int64  \n",
      " 1   ZONA_TERRITORIAL                      6902 non-null   object \n",
      " 2   FACTOR_EXPANSION                      6902 non-null   float64\n",
      " 3   DPTO                                  6902 non-null   object \n",
      " 4   SEXO                                  6902 non-null   object \n",
      " 5   EDAD                                  6902 non-null   int64  \n",
      " 6   PARENTESCO_JEFE_DE_HOGAR              6902 non-null   object \n",
      " 7   MADRE_RESIDE_HOGAR                    6902 non-null   object \n",
      " 8   PADRE_RESIDE_HOGAR                    6902 non-null   object \n",
      " 9   SE_CONSIDERA_CAMPESINO                6902 non-null   object \n",
      " 10  COMUNIDAD_ES_CAMPESINA                6902 non-null   object \n",
      " 11  ETNIA                                 6902 non-null   object \n",
      " 12  ESTADO_CIVIL                          6902 non-null   object \n",
      " 13  AFILIADO_SALUD                        6902 non-null   object \n",
      " 14  LEER_ESCRIBIR                         6902 non-null   object \n",
      " 15  ACTUALMENTE_ESTUDIA                   6902 non-null   object \n",
      " 16  MAYOR_NIVEL_EDUCATIVO                 6902 non-null   object \n",
      " 17  ORIENTACION_SEXUAL                    6902 non-null   object \n",
      " 18  GENERO                                6902 non-null   object \n",
      " 19  ACTIVIDAD_OCUPADA_ULTIMA_SEMANA       6902 non-null   float64\n",
      " 20  TIPO_VIVIENDA                         6902 non-null   object \n",
      " 21  SERVICIOS_ENERGIA_ELECTRICA           6902 non-null   object \n",
      " 22  ESTRATO_ENERGIA_ELECTRICA             6902 non-null   object \n",
      " 23  SERVICIOS_GAS_NATURAL                 6902 non-null   object \n",
      " 24  SERVICIOS_ALCANTARILLADO              6902 non-null   object \n",
      " 25  SERVICIOS_RECOLECCION_BASURAS         6902 non-null   object \n",
      " 26  SERVICIOS_ACUEDUCTO                   6902 non-null   object \n",
      " 27  NUMERO_HOGARES_VIVIENDA               6902 non-null   int64  \n",
      " 28  NUMERO_CUARTOS_VIVIENDA               6902 non-null   int64  \n",
      " 29  NUMERO_CUARTOS_DORMIR                 6902 non-null   int64  \n",
      " 30  TIPO_SANITARIO                        6902 non-null   object \n",
      " 31  COMO_ELIMINA_BASURA                   6902 non-null   object \n",
      " 32  DONDE_OBTIENE_AGUA                    6902 non-null   object \n",
      " 33  DONDE_PREPARA_ALIMENTOS               6902 non-null   object \n",
      " 34  TIPO_OCUPACION_VIVIENDA               6902 non-null   object \n",
      " 35  HOGAR_TIENE_CUENTA_CORRIENTE          6902 non-null   object \n",
      " 36  HOGAR_TIENE_CUENTA_AHORROS            6902 non-null   object \n",
      " 37  HOGAR_TIENE_CDT                       6902 non-null   object \n",
      " 38  HOGAR_TIENE_PRESTAMO_COMPRA_VIVIENDA  6902 non-null   object \n",
      " 39  HOGAR_TIENE_PRESTAMO_COMPRA_VEHICULO  6902 non-null   object \n",
      " 40  HOGAR_TIENE_PRESTAMO_LIBRE_INVERSION  6902 non-null   object \n",
      " 41  HOGAR_TIENE_TARJETA_CREDITO           6902 non-null   object \n",
      " 42  NUMERO_PERSONAS_HOGAR                 6902 non-null   int64  \n",
      " 43  DISCAPACIDAD                          6902 non-null   object \n",
      "dtypes: float64(2), int64(6), object(36)\n",
      "memory usage: 2.3+ MB\n"
     ]
    }
   ],
   "source": [
    "data.info()"
   ]
  },
  {
   "cell_type": "code",
   "execution_count": 37,
   "metadata": {},
   "outputs": [],
   "source": [
    "path = r\"C:\\Users\\andre\\OneDrive\\Escritorio\\Proyecto de Grado\\result\\db_agrupado\"\n",
    "path_export = os.path.join(path, month +'_Agrupado' +'.csv')\n",
    "data.to_csv(path_export, index=False, sep=';', encoding='latin1')"
   ]
  },
  {
   "cell_type": "code",
   "execution_count": 38,
   "metadata": {},
   "outputs": [],
   "source": [
    "cat_variables = data.drop(columns='ACTIVIDAD_OCUPADA_ULTIMA_SEMANA').select_dtypes(include=['object']).columns.to_list()"
   ]
  },
  {
   "cell_type": "code",
   "execution_count": 39,
   "metadata": {},
   "outputs": [],
   "source": [
    "import sys\n",
    "sys.path.append('c:\\\\Users\\\\andre\\\\OneDrive\\\\Documentos\\\\Maestría\\\\Proyecto de Grado')"
   ]
  },
  {
   "cell_type": "code",
   "execution_count": 40,
   "metadata": {},
   "outputs": [],
   "source": [
    "from data_module.pruebas import calculate_woe_iv"
   ]
  },
  {
   "cell_type": "code",
   "execution_count": 41,
   "metadata": {},
   "outputs": [
    {
     "name": "stdout",
     "output_type": "stream",
     "text": [
      "Resultados del Cálculo de IV\n"
     ]
    },
    {
     "data": {
      "text/html": [
       "<div>\n",
       "<style scoped>\n",
       "    .dataframe tbody tr th:only-of-type {\n",
       "        vertical-align: middle;\n",
       "    }\n",
       "\n",
       "    .dataframe tbody tr th {\n",
       "        vertical-align: top;\n",
       "    }\n",
       "\n",
       "    .dataframe thead th {\n",
       "        text-align: right;\n",
       "    }\n",
       "</style>\n",
       "<table border=\"1\" class=\"dataframe\">\n",
       "  <thead>\n",
       "    <tr style=\"text-align: right;\">\n",
       "      <th></th>\n",
       "      <th>IV</th>\n",
       "    </tr>\n",
       "  </thead>\n",
       "  <tbody>\n",
       "    <tr>\n",
       "      <th>PARENTESCO_JEFE_DE_HOGAR</th>\n",
       "      <td>0.281619</td>\n",
       "    </tr>\n",
       "    <tr>\n",
       "      <th>MADRE_RESIDE_HOGAR</th>\n",
       "      <td>0.21639</td>\n",
       "    </tr>\n",
       "    <tr>\n",
       "      <th>ESTADO_CIVIL</th>\n",
       "      <td>0.192598</td>\n",
       "    </tr>\n",
       "    <tr>\n",
       "      <th>DPTO</th>\n",
       "      <td>0.155438</td>\n",
       "    </tr>\n",
       "    <tr>\n",
       "      <th>PADRE_RESIDE_HOGAR</th>\n",
       "      <td>0.072577</td>\n",
       "    </tr>\n",
       "    <tr>\n",
       "      <th>TIPO_OCUPACION_VIVIENDA</th>\n",
       "      <td>0.064025</td>\n",
       "    </tr>\n",
       "    <tr>\n",
       "      <th>MAYOR_NIVEL_EDUCATIVO</th>\n",
       "      <td>0.050143</td>\n",
       "    </tr>\n",
       "    <tr>\n",
       "      <th>TIPO_VIVIENDA</th>\n",
       "      <td>0.036521</td>\n",
       "    </tr>\n",
       "    <tr>\n",
       "      <th>DONDE_OBTIENE_AGUA</th>\n",
       "      <td>0.027612</td>\n",
       "    </tr>\n",
       "    <tr>\n",
       "      <th>ACTUALMENTE_ESTUDIA</th>\n",
       "      <td>0.02448</td>\n",
       "    </tr>\n",
       "    <tr>\n",
       "      <th>ETNIA</th>\n",
       "      <td>0.016477</td>\n",
       "    </tr>\n",
       "    <tr>\n",
       "      <th>ZONA_TERRITORIAL</th>\n",
       "      <td>0.016112</td>\n",
       "    </tr>\n",
       "    <tr>\n",
       "      <th>SE_CONSIDERA_CAMPESINO</th>\n",
       "      <td>0.01455</td>\n",
       "    </tr>\n",
       "    <tr>\n",
       "      <th>COMO_ELIMINA_BASURA</th>\n",
       "      <td>0.014402</td>\n",
       "    </tr>\n",
       "    <tr>\n",
       "      <th>DONDE_PREPARA_ALIMENTOS</th>\n",
       "      <td>0.013542</td>\n",
       "    </tr>\n",
       "    <tr>\n",
       "      <th>SERVICIOS_RECOLECCION_BASURAS</th>\n",
       "      <td>0.012262</td>\n",
       "    </tr>\n",
       "    <tr>\n",
       "      <th>COMUNIDAD_ES_CAMPESINA</th>\n",
       "      <td>0.011973</td>\n",
       "    </tr>\n",
       "    <tr>\n",
       "      <th>ESTRATO_ENERGIA_ELECTRICA</th>\n",
       "      <td>0.011062</td>\n",
       "    </tr>\n",
       "    <tr>\n",
       "      <th>TIPO_SANITARIO</th>\n",
       "      <td>0.010748</td>\n",
       "    </tr>\n",
       "    <tr>\n",
       "      <th>AFILIADO_SALUD</th>\n",
       "      <td>0.006812</td>\n",
       "    </tr>\n",
       "    <tr>\n",
       "      <th>DISCAPACIDAD</th>\n",
       "      <td>0.005977</td>\n",
       "    </tr>\n",
       "    <tr>\n",
       "      <th>HOGAR_TIENE_TARJETA_CREDITO</th>\n",
       "      <td>0.005303</td>\n",
       "    </tr>\n",
       "    <tr>\n",
       "      <th>GENERO</th>\n",
       "      <td>0.004996</td>\n",
       "    </tr>\n",
       "    <tr>\n",
       "      <th>SEXO</th>\n",
       "      <td>0.004973</td>\n",
       "    </tr>\n",
       "    <tr>\n",
       "      <th>ORIENTACION_SEXUAL</th>\n",
       "      <td>0.004781</td>\n",
       "    </tr>\n",
       "    <tr>\n",
       "      <th>HOGAR_TIENE_PRESTAMO_COMPRA_VEHICULO</th>\n",
       "      <td>0.003443</td>\n",
       "    </tr>\n",
       "    <tr>\n",
       "      <th>HOGAR_TIENE_PRESTAMO_COMPRA_VIVIENDA</th>\n",
       "      <td>0.001499</td>\n",
       "    </tr>\n",
       "    <tr>\n",
       "      <th>SERVICIOS_GAS_NATURAL</th>\n",
       "      <td>0.001343</td>\n",
       "    </tr>\n",
       "    <tr>\n",
       "      <th>HOGAR_TIENE_CUENTA_AHORROS</th>\n",
       "      <td>0.001188</td>\n",
       "    </tr>\n",
       "    <tr>\n",
       "      <th>LEER_ESCRIBIR</th>\n",
       "      <td>0.00109</td>\n",
       "    </tr>\n",
       "    <tr>\n",
       "      <th>SERVICIOS_ALCANTARILLADO</th>\n",
       "      <td>0.000996</td>\n",
       "    </tr>\n",
       "    <tr>\n",
       "      <th>HOGAR_TIENE_CUENTA_CORRIENTE</th>\n",
       "      <td>0.000927</td>\n",
       "    </tr>\n",
       "    <tr>\n",
       "      <th>SERVICIOS_ACUEDUCTO</th>\n",
       "      <td>0.000774</td>\n",
       "    </tr>\n",
       "    <tr>\n",
       "      <th>HOGAR_TIENE_PRESTAMO_LIBRE_INVERSION</th>\n",
       "      <td>0.000111</td>\n",
       "    </tr>\n",
       "    <tr>\n",
       "      <th>HOGAR_TIENE_CDT</th>\n",
       "      <td>0.000071</td>\n",
       "    </tr>\n",
       "    <tr>\n",
       "      <th>SERVICIOS_ENERGIA_ELECTRICA</th>\n",
       "      <td>0.000018</td>\n",
       "    </tr>\n",
       "  </tbody>\n",
       "</table>\n",
       "</div>"
      ],
      "text/plain": [
       "                                            IV\n",
       "PARENTESCO_JEFE_DE_HOGAR              0.281619\n",
       "MADRE_RESIDE_HOGAR                     0.21639\n",
       "ESTADO_CIVIL                          0.192598\n",
       "DPTO                                  0.155438\n",
       "PADRE_RESIDE_HOGAR                    0.072577\n",
       "TIPO_OCUPACION_VIVIENDA               0.064025\n",
       "MAYOR_NIVEL_EDUCATIVO                 0.050143\n",
       "TIPO_VIVIENDA                         0.036521\n",
       "DONDE_OBTIENE_AGUA                    0.027612\n",
       "ACTUALMENTE_ESTUDIA                    0.02448\n",
       "ETNIA                                 0.016477\n",
       "ZONA_TERRITORIAL                      0.016112\n",
       "SE_CONSIDERA_CAMPESINO                 0.01455\n",
       "COMO_ELIMINA_BASURA                   0.014402\n",
       "DONDE_PREPARA_ALIMENTOS               0.013542\n",
       "SERVICIOS_RECOLECCION_BASURAS         0.012262\n",
       "COMUNIDAD_ES_CAMPESINA                0.011973\n",
       "ESTRATO_ENERGIA_ELECTRICA             0.011062\n",
       "TIPO_SANITARIO                        0.010748\n",
       "AFILIADO_SALUD                        0.006812\n",
       "DISCAPACIDAD                          0.005977\n",
       "HOGAR_TIENE_TARJETA_CREDITO           0.005303\n",
       "GENERO                                0.004996\n",
       "SEXO                                  0.004973\n",
       "ORIENTACION_SEXUAL                    0.004781\n",
       "HOGAR_TIENE_PRESTAMO_COMPRA_VEHICULO  0.003443\n",
       "HOGAR_TIENE_PRESTAMO_COMPRA_VIVIENDA  0.001499\n",
       "SERVICIOS_GAS_NATURAL                 0.001343\n",
       "HOGAR_TIENE_CUENTA_AHORROS            0.001188\n",
       "LEER_ESCRIBIR                          0.00109\n",
       "SERVICIOS_ALCANTARILLADO              0.000996\n",
       "HOGAR_TIENE_CUENTA_CORRIENTE          0.000927\n",
       "SERVICIOS_ACUEDUCTO                   0.000774\n",
       "HOGAR_TIENE_PRESTAMO_LIBRE_INVERSION  0.000111\n",
       "HOGAR_TIENE_CDT                       0.000071\n",
       "SERVICIOS_ENERGIA_ELECTRICA           0.000018"
      ]
     },
     "metadata": {},
     "output_type": "display_data"
    },
    {
     "name": "stdout",
     "output_type": "stream",
     "text": [
      "Variables con IV mayor a 0.1, es decir, predictores aceptables\n"
     ]
    },
    {
     "data": {
      "text/html": [
       "<div>\n",
       "<style scoped>\n",
       "    .dataframe tbody tr th:only-of-type {\n",
       "        vertical-align: middle;\n",
       "    }\n",
       "\n",
       "    .dataframe tbody tr th {\n",
       "        vertical-align: top;\n",
       "    }\n",
       "\n",
       "    .dataframe thead th {\n",
       "        text-align: right;\n",
       "    }\n",
       "</style>\n",
       "<table border=\"1\" class=\"dataframe\">\n",
       "  <thead>\n",
       "    <tr style=\"text-align: right;\">\n",
       "      <th></th>\n",
       "      <th>IV</th>\n",
       "    </tr>\n",
       "  </thead>\n",
       "  <tbody>\n",
       "    <tr>\n",
       "      <th>PARENTESCO_JEFE_DE_HOGAR</th>\n",
       "      <td>0.281619</td>\n",
       "    </tr>\n",
       "    <tr>\n",
       "      <th>MADRE_RESIDE_HOGAR</th>\n",
       "      <td>0.21639</td>\n",
       "    </tr>\n",
       "    <tr>\n",
       "      <th>ESTADO_CIVIL</th>\n",
       "      <td>0.192598</td>\n",
       "    </tr>\n",
       "    <tr>\n",
       "      <th>DPTO</th>\n",
       "      <td>0.155438</td>\n",
       "    </tr>\n",
       "  </tbody>\n",
       "</table>\n",
       "</div>"
      ],
      "text/plain": [
       "                                IV\n",
       "PARENTESCO_JEFE_DE_HOGAR  0.281619\n",
       "MADRE_RESIDE_HOGAR         0.21639\n",
       "ESTADO_CIVIL              0.192598\n",
       "DPTO                      0.155438"
      ]
     },
     "metadata": {},
     "output_type": "display_data"
    }
   ],
   "source": [
    "iv_df = pd.DataFrame(columns=['IV'])\n",
    "\n",
    "# Calculate WOE and IV for each variable in the categorical dataframe\n",
    "for column in cat_variables:\n",
    "    woe, iv = calculate_woe_iv(data, column, 'ACTIVIDAD_OCUPADA_ULTIMA_SEMANA')\n",
    "    sum_iv = sum([i for i in iv.values()])\n",
    "    iv_df.loc[column, 'IV'] = sum_iv\n",
    "\n",
    "# Display the resulting dataframe\n",
    "print(\"Resultados del Cálculo de IV\")\n",
    "display(iv_df.sort_values(by='IV', ascending=False))\n",
    "\n",
    "print(\"Variables con IV mayor a 0.1, es decir, predictores aceptables\")\n",
    "display(iv_df[iv_df['IV'] > 0.1].sort_values(by='IV', ascending=False))\n",
    "\n",
    "iv_columns = list(iv_df[iv_df['IV'] > 0.1].sort_values(by='IV', ascending=False).index)"
   ]
  },
  {
   "cell_type": "code",
   "execution_count": null,
   "metadata": {},
   "outputs": [],
   "source": []
  }
 ],
 "metadata": {
  "kernelspec": {
   "display_name": "venv",
   "language": "python",
   "name": "python3"
  },
  "language_info": {
   "codemirror_mode": {
    "name": "ipython",
    "version": 3
   },
   "file_extension": ".py",
   "mimetype": "text/x-python",
   "name": "python",
   "nbconvert_exporter": "python",
   "pygments_lexer": "ipython3",
   "version": "3.10.6"
  }
 },
 "nbformat": 4,
 "nbformat_minor": 2
}
