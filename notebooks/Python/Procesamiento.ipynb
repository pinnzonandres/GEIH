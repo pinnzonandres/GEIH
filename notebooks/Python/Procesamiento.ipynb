{
 "cells": [
  {
   "cell_type": "markdown",
   "metadata": {},
   "source": [
    "# Procesamiento del Conjunto Consolidado\n",
    "A través del siguiente notebook se realiza el procesamiento inicial para el análisis del conjunto de datos, se va a realizar lo siguiente:\n",
    "- Descarte de columnas con información innecesaria\n",
    "- Tratamiento inicial de las columnas financieras\n",
    "- Tratamiento de las variables educativas\n",
    "- Tratamiento de las variables condicionadas"
   ]
  },
  {
   "cell_type": "code",
   "execution_count": 83,
   "metadata": {},
   "outputs": [],
   "source": [
    "# Carga de librerias\n",
    "import pandas as pd\n",
    "import os"
   ]
  },
  {
   "cell_type": "code",
   "execution_count": 84,
   "metadata": {},
   "outputs": [],
   "source": [
    "# Carga del conjunto de datos consolidado\n",
    "path= r\"C:\\Users\\andre\\OneDrive\\Escritorio\\Proyecto de Grado\\result\\db_consolidado_mensual\"\n",
    "month= 'Enero'\n",
    "ruta_carga= os.path.join(path, month + '.csv')\n",
    "data= pd.read_csv(ruta_carga, sep= ';', encoding= 'latin-1')\n",
    "\n",
    "# Selección del conjunto de datos en la población objetivo\n",
    "df= data[(data['EDAD'].isin(range(18,29))) & (data['ACTIVIDAD_OCUPADA_ULTIMA_SEMANA'].isin([1,2]))].reset_index(drop=True)"
   ]
  },
  {
   "cell_type": "code",
   "execution_count": 85,
   "metadata": {},
   "outputs": [
    {
     "data": {
      "text/plain": [
       "(6902, 70)"
      ]
     },
     "metadata": {},
     "output_type": "display_data"
    },
    {
     "name": "stdout",
     "output_type": "stream",
     "text": [
      "<class 'pandas.core.frame.DataFrame'>\n",
      "RangeIndex: 6902 entries, 0 to 6901\n",
      "Data columns (total 70 columns):\n",
      " #   Column                                Non-Null Count  Dtype  \n",
      "---  ------                                --------------  -----  \n",
      " 0   MES                                   6902 non-null   int64  \n",
      " 1   DIRECTORIO                            6902 non-null   int64  \n",
      " 2   SECUENCIA_P                           6902 non-null   int64  \n",
      " 3   ORDEN                                 6902 non-null   int64  \n",
      " 4   AREA_METROPOLITANA                    5203 non-null   float64\n",
      " 5   ZONA_TERRITORIAL                      6902 non-null   int64  \n",
      " 6   FACTOR_EXPANSION                      6902 non-null   float64\n",
      " 7   DPTO                                  6902 non-null   int64  \n",
      " 8   SEXO                                  6902 non-null   int64  \n",
      " 9   EDAD                                  6902 non-null   int64  \n",
      " 10  PARENTESCO_JEFE_DE_HOGAR              6902 non-null   int64  \n",
      " 11  MADRE_RESIDE_HOGAR                    6902 non-null   int64  \n",
      " 12  PADRE_RESIDE_HOGAR                    6902 non-null   int64  \n",
      " 13  SE_CONSIDERA_CAMPESINO                6902 non-null   int64  \n",
      " 14  ALGUNA_VEZ_CAMPESINO                  5332 non-null   float64\n",
      " 15  COMUNIDAD_ES_CAMPESINA                6902 non-null   int64  \n",
      " 16  ETNIA                                 6902 non-null   int64  \n",
      " 17  ESTADO_CIVIL                          6902 non-null   float64\n",
      " 18  CONYUGE_VIVE_HOGAR                    2354 non-null   float64\n",
      " 19  AFILIADO_SALUD                        6902 non-null   int64  \n",
      " 20  TIPO_REGIMEN_SALUD                    6266 non-null   float64\n",
      " 21  QUIEN_PAGA_SALUD                      3030 non-null   float64\n",
      " 22  VALOR_SALUD                           2538 non-null   float64\n",
      " 23  DIFICULTAD_OIR                        6902 non-null   int64  \n",
      " 24  DIFICULTAD_HABLAR                     6902 non-null   int64  \n",
      " 25  DIFICULTAD_VER                        6902 non-null   int64  \n",
      " 26  DIFICULTAD_MOVER_SUBIR_BAJAR          6902 non-null   int64  \n",
      " 27  DIFICULTAD_AGARRAR                    6902 non-null   int64  \n",
      " 28  DIFICULTAD_ENTENDER                   6902 non-null   int64  \n",
      " 29  DIFICULTAD_BANARSE_VESTIRSE           6902 non-null   int64  \n",
      " 30  DIFICULTAD_RELACIONARSE               6902 non-null   int64  \n",
      " 31  LEER_ESCRIBIR                         6902 non-null   float64\n",
      " 32  ACTUALMENTE_ESTUDIA                   6902 non-null   float64\n",
      " 33  INSTITUCION_PUBLICA_PRIVADA           644 non-null    float64\n",
      " 34  MAYOR_NIVEL_EDUCATIVO                 6902 non-null   float64\n",
      " 35  MAYOR_GRADO_ALCANZADO                 6902 non-null   float64\n",
      " 36  TITULO_OBTENIDO                       5665 non-null   float64\n",
      " 37  ORIENTACION_SEXUAL                    6902 non-null   float64\n",
      " 38  GENERO                                6902 non-null   float64\n",
      " 39  ACTIVIDAD_OCUPADA_ULTIMA_SEMANA       6902 non-null   float64\n",
      " 40  TIPO_VIVIENDA                         6902 non-null   int64  \n",
      " 41  MATERIAL_PAREDES                      6902 non-null   int64  \n",
      " 42  MATERIAL_PISOS                        6902 non-null   int64  \n",
      " 43  SERVICIOS_ENERGIA_ELECTRICA           6902 non-null   int64  \n",
      " 44  ESTRATO_ENERGIA_ELECTRICA             6876 non-null   float64\n",
      " 45  SERVICIOS_GAS_NATURAL                 6902 non-null   int64  \n",
      " 46  SERVICIOS_ALCANTARILLADO              6902 non-null   int64  \n",
      " 47  SERVICIOS_RECOLECCION_BASURAS         6902 non-null   int64  \n",
      " 48  SERVICIOS_ACUEDUCTO                   6902 non-null   int64  \n",
      " 49  NUMERO_HOGARES_VIVIENDA               6902 non-null   int64  \n",
      " 50  NUMERO_CUARTOS_VIVIENDA               6902 non-null   int64  \n",
      " 51  NUMERO_CUARTOS_DORMIR                 6902 non-null   int64  \n",
      " 52  TIPO_SANITARIO                        6902 non-null   int64  \n",
      " 53  USO_COMPARTIDO_SANITARIO              6796 non-null   float64\n",
      " 54  COMO_ELIMINA_BASURA                   6902 non-null   int64  \n",
      " 55  DONDE_OBTIENE_AGUA                    6902 non-null   int64  \n",
      " 56  DONDE_PREPARA_ALIMENTOS               6902 non-null   int64  \n",
      " 57  TIPO_COMBUSTIBLE_COCINAR              6837 non-null   float64\n",
      " 58  TIPO_OCUPACION_VIVIENDA               6902 non-null   int64  \n",
      " 59  HOGAR_TIENE_CUENTA_CORRIENTE          70 non-null     float64\n",
      " 60  HOGAR_TIENE_CUENTA_AHORROS            4269 non-null   float64\n",
      " 61  HOGAR_TIENE_CDT                       13 non-null     float64\n",
      " 62  HOGAR_TIENE_PRESTAMO_COMPRA_VIVIENDA  109 non-null    float64\n",
      " 63  HOGAR_TIENE_PRESTAMO_COMPRA_VEHICULO  53 non-null     float64\n",
      " 64  HOGAR_TIENE_PRESTAMO_LIBRE_INVERSION  354 non-null    float64\n",
      " 65  HOGAR_TIENE_TARJETA_CREDITO           565 non-null    float64\n",
      " 66  HOGAR_TIENE_OTRO_FINANCIERO           146 non-null    float64\n",
      " 67  HOGAR_TIENE_NINGUNO_DE_ESTOS          2456 non-null   float64\n",
      " 68  HOGAR_NO_SABE_FINANCIERO              4 non-null      float64\n",
      " 69  NUMERO_PERSONAS_HOGAR                 6902 non-null   int64  \n",
      "dtypes: float64(30), int64(40)\n",
      "memory usage: 3.7 MB\n"
     ]
    },
    {
     "data": {
      "text/plain": [
       "None"
      ]
     },
     "metadata": {},
     "output_type": "display_data"
    }
   ],
   "source": [
    "display(df.shape)\n",
    "display(df.info())"
   ]
  },
  {
   "cell_type": "markdown",
   "metadata": {},
   "source": [
    "### Columnas a descartar\n",
    "\n",
    "Se descartan aquellas columnas cuya información no es relevante sobre el objetivo del trabajo, o son aquellas que son condicionadas y la información que trae es poco relevante."
   ]
  },
  {
   "cell_type": "code",
   "execution_count": 86,
   "metadata": {},
   "outputs": [],
   "source": [
    "\n",
    "df = df.drop(columns=['AREA_METROPOLITANA', 'ALGUNA_VEZ_CAMPESINO',\n",
    "                      'CONYUGE_VIVE_HOGAR', 'TIPO_REGIMEN_SALUD',\n",
    "                      'QUIEN_PAGA_SALUD', 'VALOR_SALUD',\n",
    "                      'INSTITUCION_PUBLICA_PRIVADA', 'USO_COMPARTIDO_SANITARIO',\n",
    "                      'TIPO_COMBUSTIBLE_COCINAR', 'MAYOR_GRADO_ALCANZADO',\n",
    "                      'TITULO_OBTENIDO'])"
   ]
  },
  {
   "cell_type": "markdown",
   "metadata": {},
   "source": [
    "### Descarte columnas de identificación"
   ]
  },
  {
   "cell_type": "code",
   "execution_count": 87,
   "metadata": {},
   "outputs": [],
   "source": [
    "df = df.drop(columns=['MES','SECUENCIA_P','ORDEN'])"
   ]
  },
  {
   "cell_type": "markdown",
   "metadata": {},
   "source": [
    "### Revisión cuentas financieras\n",
    "En las variables relacionadas con la posesión de algún elemento financiero presenta la particularidad qué cuando la respuesta es afirmativa se contesto con el valor '1', en el caso que no tuviera ese elemento el valor está vacío, así se va a reemplazar por 0 este valor nulo."
   ]
  },
  {
   "cell_type": "code",
   "execution_count": 88,
   "metadata": {},
   "outputs": [],
   "source": [
    "# Identificación de las variables financieras\n",
    "financieros = ['HOGAR_TIENE_CUENTA_CORRIENTE',\n",
    "'HOGAR_TIENE_CUENTA_AHORROS',\n",
    "'HOGAR_TIENE_CDT',\n",
    "'HOGAR_TIENE_PRESTAMO_COMPRA_VIVIENDA',\n",
    "'HOGAR_TIENE_PRESTAMO_COMPRA_VEHICULO',\n",
    "'HOGAR_TIENE_PRESTAMO_LIBRE_INVERSION',\n",
    "'HOGAR_TIENE_TARJETA_CREDITO',\n",
    "'HOGAR_TIENE_NINGUNO_DE_ESTOS',\n",
    "'HOGAR_NO_SABE_FINANCIERO',\n",
    "'HOGAR_TIENE_OTRO_FINANCIERO']"
   ]
  },
  {
   "cell_type": "code",
   "execution_count": 89,
   "metadata": {},
   "outputs": [],
   "source": [
    "# Se rellenan los datos vacios con el valor de 0 que es el valor buscado.\n",
    "df[financieros] = df[financieros].fillna(0)"
   ]
  },
  {
   "cell_type": "code",
   "execution_count": 90,
   "metadata": {},
   "outputs": [
    {
     "data": {
      "text/plain": [
       "1.0    6015\n",
       "2.0     675\n",
       "3.0     182\n",
       "4.0      24\n",
       "5.0       5\n",
       "7.0       1\n",
       "Name: count, dtype: int64"
      ]
     },
     "execution_count": 90,
     "metadata": {},
     "output_type": "execute_result"
    }
   ],
   "source": [
    "# Se verifica que en todos los casos la suma es correcta y no hay datos nulos\n",
    "df[financieros].sum(axis=1).value_counts()"
   ]
  },
  {
   "cell_type": "markdown",
   "metadata": {},
   "source": [
    "### Tratamiento de las variables condicionadas\n",
    "Hay cierta cantidad de variables condicionadas que si son necesarias para el objetivo del estudio como el estrato socioeconómico, en el caso de los valores nulos en esta variable dado que no debían hacerlo, se va a añadir un valor adicional como el caso de \"No tiene servicio eléctrico\"."
   ]
  },
  {
   "cell_type": "code",
   "execution_count": 91,
   "metadata": {},
   "outputs": [
    {
     "data": {
      "text/plain": [
       "ESTRATO_ENERGIA_ELECTRICA\n",
       "1.0    2808\n",
       "2.0    2333\n",
       "3.0    1103\n",
       "4.0     300\n",
       "0.0     150\n",
       "5.0      96\n",
       "9.0      63\n",
       "6.0      23\n",
       "Name: count, dtype: int64"
      ]
     },
     "execution_count": 91,
     "metadata": {},
     "output_type": "execute_result"
    }
   ],
   "source": [
    "df['ESTRATO_ENERGIA_ELECTRICA'].value_counts()"
   ]
  },
  {
   "cell_type": "code",
   "execution_count": 92,
   "metadata": {},
   "outputs": [],
   "source": [
    "df['ESTRATO_ENERGIA_ELECTRICA'] = df['ESTRATO_ENERGIA_ELECTRICA'].fillna(10)"
   ]
  },
  {
   "cell_type": "code",
   "execution_count": 93,
   "metadata": {},
   "outputs": [
    {
     "data": {
      "text/plain": [
       "ESTRATO_ENERGIA_ELECTRICA\n",
       "1.0     2808\n",
       "2.0     2333\n",
       "3.0     1103\n",
       "4.0      300\n",
       "0.0      150\n",
       "5.0       96\n",
       "9.0       63\n",
       "10.0      26\n",
       "6.0       23\n",
       "Name: count, dtype: int64"
      ]
     },
     "execution_count": 93,
     "metadata": {},
     "output_type": "execute_result"
    }
   ],
   "source": [
    "df['ESTRATO_ENERGIA_ELECTRICA'].value_counts()"
   ]
  },
  {
   "cell_type": "markdown",
   "metadata": {},
   "source": [
    "## Renombramiento de Palabras\n",
    "Se va a realizar el cambio de los valores categóricos numéricos a su valor real como cadena de texto para profundizar en su análisis."
   ]
  },
  {
   "cell_type": "code",
   "execution_count": 94,
   "metadata": {},
   "outputs": [],
   "source": [
    "# Función que se realiza el cambio necesario\n",
    "def replace_values(df, column, mapping):\n",
    "    df[column] = df[column].replace(mapping)\n",
    "    return df"
   ]
  },
  {
   "cell_type": "code",
   "execution_count": 95,
   "metadata": {},
   "outputs": [],
   "source": [
    "## Cambios de valor codificado Original\n",
    "cambios ={\n",
    "'ZONA_TERRITORIAL':{\n",
    "    1:'Cabecera',\n",
    "    2:'Resto'\n",
    "    },\n",
    "'DPTO':{\n",
    "    5: 'ANTIOQUIA',\n",
    "    8: 'ATLANTICO',\n",
    "         11: 'BOGOTA',\n",
    "         13: 'BOLIVAR',\n",
    "         15: 'BOYACA',\n",
    "         17: 'CALDAS',\n",
    "         18: 'CAQUETA',\n",
    "         19: 'CAUCA',\n",
    "         20: 'CESAR',\n",
    "         23: 'CORDOBA',\n",
    "         25: 'CUNDINAMARCA',\n",
    "         27: 'CHOCO',\n",
    "         41: 'HUILA',\n",
    "         44: 'LA GUAJIRA',\n",
    "         47: 'MAGDALENA',\n",
    "         50: 'META',\n",
    "         52: 'NARIÑO',\n",
    "         54: 'NORTE DE SANTANDER',\n",
    "         63: 'QUINDIO',\n",
    "         66: 'RISALRALDA',\n",
    "         68: 'SANTANDER',\n",
    "         70: 'SUCRE',\n",
    "         73: 'TOLIMA',\n",
    "         76: 'VALLE',\n",
    "         81: 'ARAUCA',\n",
    "         85: 'CASANARE',\n",
    "         86: 'PUTUMAYO',\n",
    "         88: 'SAN ANDRES',\n",
    "         91: 'AMAZONAS',\n",
    "         94: 'GUAINIA',\n",
    "         95: 'GUAVIARE',\n",
    "         97: 'VAUPES',\n",
    "         99: 'VICHADA'},\n",
    "'SEXO':{\n",
    "    1:'Masculino',\n",
    "    2:'Femenino'\n",
    "        },\n",
    "'PARENTESCO_JEFE_DE_HOGAR':{\n",
    "    1:'Jefe (a) del hogar',\n",
    "    2:'Pareja, esposo(a), cónyuge, compañero(a)',\n",
    "    3:'Hijo(a), hijastro(a)',\n",
    "    4:'Padre o madre',\n",
    "    5:'Suegro(a)',\n",
    "    6:'Hermano(a) o hermanastro(a)',\n",
    "    7:'Yerno o nuera',\n",
    "    8:'Nieto(a)',\n",
    "    9:'Otro  pariente',\n",
    "    10:'Empleado(a) del servicio doméstico y sus parientes',\n",
    "    11:'Pensionista',\n",
    "    12:'Trabajador',\n",
    "    13:'Otro no pariente'\n",
    "    },\n",
    "'MADRE_RESIDE_HOGAR':{\n",
    "    1:'Si',\n",
    "    2:'No',\n",
    "    3:'Fallecida'\n",
    "    },\n",
    "'PADRE_RESIDE_HOGAR':{\n",
    "    1:'Si',\n",
    "    2:'No',\n",
    "    3:'Fallecido'\n",
    "    },\n",
    "'SE_CONSIDERA_CAMPESINO':{\n",
    "    1:'Si',\n",
    "    2:'No',\n",
    "    9:'No informa'\n",
    "    },\n",
    "'COMUNIDAD_ES_CAMPESINA':{\n",
    "    1:'Si',\n",
    "    2:'No',\n",
    "    9:'No informa'\n",
    "    },\n",
    "'ETNIA':{\n",
    "    1:'Indígena',\n",
    "    2:'Gitano (Rom)',\n",
    "    3:'Raizal del archipiélago',\n",
    "    4:'Palenquero',\n",
    "    5:'Negro, mulato (afrodescendiente)',\n",
    "    6:'Ninguno de los anteriores'\n",
    "    },\n",
    "'ESTADO_CIVIL':{\n",
    "    1:'No esta casado(a) y vive en pareja  hace  menos de dos años',\n",
    "    2:'No esta  casado (a)  y vive en pareja   hace dos años  o más',\n",
    "    3:'Esta casado (a)',\n",
    "    4:'Esta separado (a) o divorciado (a)',\n",
    "    5:'Esta viudo (a)',\n",
    "    6:'Esta soltero (a)'\n",
    "    },\n",
    "'AFILIADO_SALUD':{\n",
    "    1:'Si',\n",
    "    2:'No',\n",
    "    9:'No sabe, no informa'\n",
    "    },\n",
    "'DIFICULTAD_OIR':{\n",
    "    1:'No puede hacerlo',\n",
    "    2:'Sí, con mucha dificultad',\n",
    "    3:'Sí, con alguna dificultad',\n",
    "    4:'Sin dificultad'\n",
    "    },\n",
    "'DIFICULTAD_HABLAR':{\n",
    "    1:'No puede hacerlo',\n",
    "    2:'Sí, con mucha dificultad',\n",
    "    3:'Sí, con alguna dificultad',\n",
    "    4:'Sin dificultad'\n",
    "    },\n",
    "'DIFICULTAD_VER':{\n",
    "    1:'No puede hacerlo',\n",
    "    2:'Sí, con mucha dificultad',\n",
    "    3:'Sí, con alguna dificultad',\n",
    "    4:'Sin dificultad'\n",
    "    },\n",
    "'DIFICULTAD_MOVER_SUBIR_BAJAR':{\n",
    "    1:'No puede hacerlo',\n",
    "    2:'Sí, con mucha dificultad',\n",
    "    3:'Sí, con alguna dificultad',\n",
    "    4:'Sin dificultad'\n",
    "    },\n",
    "'DIFICULTAD_AGARRAR':{\n",
    "    1:'No puede hacerlo',\n",
    "    2:'Sí, con mucha dificultad',\n",
    "    3:'Sí, con alguna dificultad',\n",
    "    4:'Sin dificultad'\n",
    "    },\n",
    "'DIFICULTAD_ENTENDER':{\n",
    "    1:'No puede hacerlo',\n",
    "    2:'Sí, con mucha dificultad',\n",
    "    3:'Sí, con alguna dificultad',\n",
    "    4:'Sin dificultad'\n",
    "    },\n",
    "'DIFICULTAD_BANARSE_VESTIRSE':{\n",
    "    1:'No puede hacerlo',\n",
    "    2:'Sí, con mucha dificultad',\n",
    "    3:'Sí, con alguna dificultad',\n",
    "    4:'Sin dificultad'\n",
    "    },\n",
    "'DIFICULTAD_RELACIONARSE':{\n",
    "    1:'No puede hacerlo',\n",
    "    2:'Sí, con mucha dificultad',\n",
    "    3:'Sí, con alguna dificultad',\n",
    "    4:'Sin dificultad'\n",
    "    },\n",
    "'LEER_ESCRIBIR':{\n",
    "    1:'Si',\n",
    "    2:'No'\n",
    "    },\n",
    "'ACTUALMENTE_ESTUDIA':{\n",
    "    1:'Si',\n",
    "    2:'No'\n",
    "    },\n",
    "'MAYOR_NIVEL_EDUCATIVO':{\n",
    "    1:'Ninguno',\n",
    "    2:'Preescolar ',\n",
    "    3:'Básica primaria (1o - 5o)',\n",
    "    4:'Básica secundaria (6o - 9o)',\n",
    "    5:'Media académica (Bachillerato clásico)',\n",
    "    6:'Media técnica (Bachillerato técnico)',\n",
    "    7:'Normalista',\n",
    "    8:'Técnica profesional',\n",
    "    9:'Tecnológica ',\n",
    "    10:'Universitaria',\n",
    "    11:'Especialización ',\n",
    "    12:'Maestría ',\n",
    "    13:'Doctorado ',\n",
    "    99:'No sabe, no informa'\n",
    "},\n",
    "'ORIENTACION_SEXUAL':{\n",
    "    1:'Hombres',\n",
    "    2:'Mujeres',\n",
    "    3:'Ambos sexos',\n",
    "    4:'Otro'\n",
    "    },\n",
    "'GENERO':{\n",
    "    1:'Hombre',\n",
    "    2:'Mujer',\n",
    "    3:'Hombre trans',\n",
    "    4:'Mujer trans',\n",
    "    5:'Otro'\n",
    "    },\n",
    "'ACTIVIDAD_OCUPADA_ULTIMA_SEMANA':{\n",
    "    1:1,\n",
    "    2:0\n",
    "    },\n",
    "'TIPO_VIVIENDA':{\n",
    "    1:'Casa',\n",
    "    2:'Apartamento',\n",
    "    3:'Cuarto (s) en inquilinato',\n",
    "    4:'Cuarto (s) en otro  tipo de estructura',\n",
    "    5:'Vivienda indígena',\n",
    "    6:'Otra vivienda (carpa,  vagón, embarcación, cueva, refugio natural, etc.)'\n",
    "    },\n",
    "'MATERIAL_PAREDES':{\n",
    "    1:'Ladrillo, bloque, material prefabricado, piedra',\n",
    "    2:'Madera pulida',\n",
    "    3:'Adobe o tapia pisada',\n",
    "    4:'Bahareque',\n",
    "    5:'Madera burda, tabla, tablón',\n",
    "    6:'Guadua',\n",
    "    7:'Caña, esterilla, otro tipo de material vegetal',\n",
    "    8:'Zinc, tela, cartón, latas, desechos, plástico',\n",
    "    9:'Sin paredes'\n",
    "    },\n",
    "'MATERIAL_PISOS':{\n",
    "    1:'Tierra, arena',\n",
    "    2:'Cemento, gravilla',\n",
    "    3:'Madera burda, tabla, tablón, otro vegetal',\n",
    "    4:'Baldosín, ladrillo, vinisol, otros materiales sintéticos',\n",
    "    5:'Mármol',\n",
    "    6:'Madera pulida',\n",
    "    7:'Alfombra o tapete de pared a pared'\n",
    "    },\n",
    "'SERVICIOS_ENERGIA_ELECTRICA':{\n",
    "    1:'Si',\n",
    "    2:'No'\n",
    "    },\n",
    "'ESTRATO_ENERGIA_ELECTRICA':{\n",
    "    0:'Conexión Pirata',\n",
    "    1:'Bajo - Bajo',\n",
    "    2:'Bajo',\n",
    "    3:'Medio - Bajo',\n",
    "    4:'Medio',\n",
    "    5:'Medio - Alto',\n",
    "    6:'Alto',\n",
    "    9:'No sabe o cuenta con Planta Eléctrica',\n",
    "    10:'No tiene servicio eléctrico'\n",
    "    },\n",
    "'SERVICIOS_GAS_NATURAL':{\n",
    "    1:'Si',\n",
    "    2:'No'\n",
    "    },\n",
    "'SERVICIOS_ALCANTARILLADO':{\n",
    "    1:'Si',\n",
    "    2:'No'\n",
    "    },\n",
    "'SERVICIOS_RECOLECCION_BASURAS':{\n",
    "    1:'Si',\n",
    "    2:'No'\n",
    "    },\n",
    "'SERVICIOS_ACUEDUCTO':{\n",
    "    1:'Si',\n",
    "    2:'No'\n",
    "    },\n",
    "'TIPO_SANITARIO':{\n",
    "    1:'Inodoro conectado a alcantarillado',\n",
    "    2:'Inodoro conectado a pozo séptico',\n",
    "    3:'Inodoro sin conexión',\n",
    "    4:'Letrina',\n",
    "    5:'Bajamar',\n",
    "    6:'No tiene servicio sanitario'\n",
    "    },\n",
    "'COMO_ELIMINA_BASURA':{\n",
    "    1:'Por recolección pública o privada',\n",
    "    2:'La tiran a un río, quebrada, caño o laguna',\n",
    "    3:'La tiran a un patio, lote, zanja o baldío',\n",
    "    4:'La queman o entierran',\n",
    "    5:'La eliminan de otra forma'\n",
    "    },\n",
    "'DONDE_OBTIENE_AGUA':{\n",
    "    1:'De acueducto por tubería',\n",
    "    2:'De otra fuente por tubería',\n",
    "    3:'De pozo con bomba',\n",
    "    4:'De pozo sin bomba, aljibe, jagüey o barreno',\n",
    "    5:'Aguas lluvias',\n",
    "    6:'Rio, quebrada, nacimiento o manantial ',\n",
    "    7:'De pila pública',\n",
    "    8:'Carrotanque',\n",
    "    9:'Aguatero',\n",
    "    10:'Agua embotellada o en bolsa'\n",
    "    },\n",
    "'DONDE_PREPARA_ALIMENTOS':{\n",
    "    1:'En un cuarto usado sólo para cocinar?',\n",
    "    2:'En un cuarto usado también para dormir?',\n",
    "    3:'En una sala comedor con lavaplatos?',\n",
    "    4:'En una sala comedor sin lavaplatos?',\n",
    "    5:'En un patio, corredor, enramada, al aire libre?',\n",
    "    6:'En ninguna parte, no preparan alimentos?'\n",
    "    },\n",
    "'TIPO_OCUPACION_VIVIENDA':{\n",
    "    1:'Propia, totalmente pagada',\n",
    "    2:'Propia, la están pagando',\n",
    "    3:'En arriendo o subarriendo',\n",
    "    4:'En usufructo',\n",
    "    5:'Posesión sin título',\n",
    "    6:'Propiedad colectiva',\n",
    "    7:'Otra'\n",
    "    },\n",
    "'HOGAR_TIENE_CUENTA_CORRIENTE':{\n",
    "    1:'Si',\n",
    "    0:'No'\n",
    "    },\n",
    "'HOGAR_TIENE_CUENTA_AHORROS':{\n",
    "    1:'Si',\n",
    "    0:'No'\n",
    "    },\n",
    "'HOGAR_TIENE_CDT':{\n",
    "    1:'Si',\n",
    "    0:'No'\n",
    "    },\n",
    "'HOGAR_TIENE_PRESTAMO_COMPRA_VIVIENDA':{\n",
    "    1:'Si',\n",
    "    0:'No'\n",
    "    },\n",
    "'HOGAR_TIENE_PRESTAMO_COMPRA_VEHICULO':{\n",
    "    1:'Si',\n",
    "    0:'No'\n",
    "    },\n",
    "'HOGAR_TIENE_PRESTAMO_LIBRE_INVERSION':{\n",
    "    1:'Si',\n",
    "    0:'No'\n",
    "    },\n",
    "'HOGAR_TIENE_TARJETA_CREDITO':{\n",
    "    1:'Si',\n",
    "    0:'No'\n",
    "    },\n",
    "'HOGAR_TIENE_OTRO_FINANCIERO':{\n",
    "    1:'Si',\n",
    "    0:'No'\n",
    "    },\n",
    "'HOGAR_TIENE_NINGUNO_DE_ESTOS':{\n",
    "    1:'Si',\n",
    "    0:'No'\n",
    "    },\n",
    "'HOGAR_NO_SABE_FINANCIERO':{\n",
    "    1:'Si',\n",
    "    0:'No'\n",
    "    },\n",
    "}"
   ]
  },
  {
   "cell_type": "code",
   "execution_count": 96,
   "metadata": {},
   "outputs": [],
   "source": [
    "for col in cambios.keys():\n",
    "    df_pfinal = replace_values(df, col, cambios[col])"
   ]
  },
  {
   "cell_type": "markdown",
   "metadata": {},
   "source": [
    "# Eliminación de simbolos especiales\n",
    "Por medio de la libreria unidecode se van a eliminar los carácteres especiales."
   ]
  },
  {
   "cell_type": "code",
   "execution_count": 97,
   "metadata": {},
   "outputs": [],
   "source": [
    "from unidecode import unidecode"
   ]
  },
  {
   "cell_type": "code",
   "execution_count": 98,
   "metadata": {},
   "outputs": [],
   "source": [
    "cat_variables = df_pfinal.drop(columns='ACTIVIDAD_OCUPADA_ULTIMA_SEMANA').select_dtypes(include=['object']).columns.to_list()\n",
    "num_variables = df_pfinal.drop(columns='ACTIVIDAD_OCUPADA_ULTIMA_SEMANA').select_dtypes(include=['int64','float64']).columns.to_list()"
   ]
  },
  {
   "cell_type": "code",
   "execution_count": 99,
   "metadata": {},
   "outputs": [],
   "source": [
    "for col in cat_variables:\n",
    "    df[col] = df[col].apply(lambda x: unidecode(x))"
   ]
  },
  {
   "cell_type": "code",
   "execution_count": 100,
   "metadata": {},
   "outputs": [],
   "source": [
    "path = r\"C:\\Users\\andre\\OneDrive\\Escritorio\\Proyecto de Grado\\result\\db_consolidado_procesado\"\n",
    "path_export = os.path.join(path, month +'_Procesado' +'.csv')\n",
    "df_pfinal.to_csv(path_export, index=False, sep=';', encoding='latin1')"
   ]
  }
 ],
 "metadata": {
  "kernelspec": {
   "display_name": "venv",
   "language": "python",
   "name": "python3"
  },
  "language_info": {
   "codemirror_mode": {
    "name": "ipython",
    "version": 3
   },
   "file_extension": ".py",
   "mimetype": "text/x-python",
   "name": "python",
   "nbconvert_exporter": "python",
   "pygments_lexer": "ipython3",
   "version": "3.10.6"
  }
 },
 "nbformat": 4,
 "nbformat_minor": 2
}
