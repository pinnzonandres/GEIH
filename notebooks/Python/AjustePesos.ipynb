{
 "cells": [
  {
   "cell_type": "code",
   "execution_count": 3,
   "metadata": {},
   "outputs": [],
   "source": [
    "import pandas as pd\n",
    "import os"
   ]
  },
  {
   "cell_type": "code",
   "execution_count": 4,
   "metadata": {},
   "outputs": [],
   "source": [
    "path = r\"C:\\Users\\andre\\OneDrive\\Escritorio\\Proyecto de Grado\\result\\db_agrupado\"\n",
    "mes = 'Enero'\n",
    "path_csv = os.path.join(path, mes + '_Agrupado.csv')\n",
    "data = pd.read_csv(path_csv, encoding='Latin1', sep=';')"
   ]
  },
  {
   "cell_type": "code",
   "execution_count": 5,
   "metadata": {},
   "outputs": [
    {
     "data": {
      "text/html": [
       "<div>\n",
       "<style scoped>\n",
       "    .dataframe tbody tr th:only-of-type {\n",
       "        vertical-align: middle;\n",
       "    }\n",
       "\n",
       "    .dataframe tbody tr th {\n",
       "        vertical-align: top;\n",
       "    }\n",
       "\n",
       "    .dataframe thead th {\n",
       "        text-align: right;\n",
       "    }\n",
       "</style>\n",
       "<table border=\"1\" class=\"dataframe\">\n",
       "  <thead>\n",
       "    <tr style=\"text-align: right;\">\n",
       "      <th></th>\n",
       "      <th>DIRECTORIO</th>\n",
       "      <th>ZONA_TERRITORIAL</th>\n",
       "      <th>FACTOR_EXPANSION</th>\n",
       "      <th>DPTO</th>\n",
       "      <th>SEXO</th>\n",
       "      <th>EDAD</th>\n",
       "      <th>PARENTESCO_JEFE_DE_HOGAR</th>\n",
       "      <th>MADRE_RESIDE_HOGAR</th>\n",
       "      <th>PADRE_RESIDE_HOGAR</th>\n",
       "      <th>SE_CONSIDERA_CAMPESINO</th>\n",
       "      <th>...</th>\n",
       "      <th>TIPO_OCUPACION_VIVIENDA</th>\n",
       "      <th>HOGAR_TIENE_CUENTA_CORRIENTE</th>\n",
       "      <th>HOGAR_TIENE_CUENTA_AHORROS</th>\n",
       "      <th>HOGAR_TIENE_CDT</th>\n",
       "      <th>HOGAR_TIENE_PRESTAMO_COMPRA_VIVIENDA</th>\n",
       "      <th>HOGAR_TIENE_PRESTAMO_COMPRA_VEHICULO</th>\n",
       "      <th>HOGAR_TIENE_PRESTAMO_LIBRE_INVERSION</th>\n",
       "      <th>HOGAR_TIENE_TARJETA_CREDITO</th>\n",
       "      <th>NUMERO_PERSONAS_HOGAR</th>\n",
       "      <th>DISCAPACIDAD</th>\n",
       "    </tr>\n",
       "  </thead>\n",
       "  <tbody>\n",
       "    <tr>\n",
       "      <th>0</th>\n",
       "      <td>7309060</td>\n",
       "      <td>Cabecera</td>\n",
       "      <td>1580.677273</td>\n",
       "      <td>CUNDINAMARCA</td>\n",
       "      <td>Masculino</td>\n",
       "      <td>27</td>\n",
       "      <td>Pareja, esposo(a), conyuge, companero(a)</td>\n",
       "      <td>No</td>\n",
       "      <td>No</td>\n",
       "      <td>Si</td>\n",
       "      <td>...</td>\n",
       "      <td>En arriendo o subarriendo</td>\n",
       "      <td>No</td>\n",
       "      <td>Si</td>\n",
       "      <td>No</td>\n",
       "      <td>No</td>\n",
       "      <td>No</td>\n",
       "      <td>No</td>\n",
       "      <td>No</td>\n",
       "      <td>3</td>\n",
       "      <td>Sin discapacidad</td>\n",
       "    </tr>\n",
       "    <tr>\n",
       "      <th>1</th>\n",
       "      <td>7309064</td>\n",
       "      <td>Resto</td>\n",
       "      <td>324.598262</td>\n",
       "      <td>RISALRALDA</td>\n",
       "      <td>Masculino</td>\n",
       "      <td>18</td>\n",
       "      <td>Hijo(a), hijastro(a)</td>\n",
       "      <td>Si</td>\n",
       "      <td>No</td>\n",
       "      <td>Si</td>\n",
       "      <td>...</td>\n",
       "      <td>En arriendo o subarriendo</td>\n",
       "      <td>No</td>\n",
       "      <td>Si</td>\n",
       "      <td>No</td>\n",
       "      <td>No</td>\n",
       "      <td>No</td>\n",
       "      <td>No</td>\n",
       "      <td>No</td>\n",
       "      <td>5</td>\n",
       "      <td>Sin discapacidad</td>\n",
       "    </tr>\n",
       "    <tr>\n",
       "      <th>2</th>\n",
       "      <td>7309067</td>\n",
       "      <td>Resto</td>\n",
       "      <td>167.457366</td>\n",
       "      <td>RISALRALDA</td>\n",
       "      <td>Femenino</td>\n",
       "      <td>25</td>\n",
       "      <td>Hijo(a), hijastro(a)</td>\n",
       "      <td>No</td>\n",
       "      <td>Si</td>\n",
       "      <td>Si</td>\n",
       "      <td>...</td>\n",
       "      <td>Propia, totalmente pagada</td>\n",
       "      <td>No</td>\n",
       "      <td>Si</td>\n",
       "      <td>No</td>\n",
       "      <td>No</td>\n",
       "      <td>No</td>\n",
       "      <td>No</td>\n",
       "      <td>No</td>\n",
       "      <td>2</td>\n",
       "      <td>Sin discapacidad</td>\n",
       "    </tr>\n",
       "    <tr>\n",
       "      <th>3</th>\n",
       "      <td>7309073</td>\n",
       "      <td>Resto</td>\n",
       "      <td>202.189536</td>\n",
       "      <td>RISALRALDA</td>\n",
       "      <td>Femenino</td>\n",
       "      <td>27</td>\n",
       "      <td>Hijo(a), hijastro(a)</td>\n",
       "      <td>Si</td>\n",
       "      <td>No</td>\n",
       "      <td>Si</td>\n",
       "      <td>...</td>\n",
       "      <td>En usufructo</td>\n",
       "      <td>No</td>\n",
       "      <td>Si</td>\n",
       "      <td>No</td>\n",
       "      <td>No</td>\n",
       "      <td>No</td>\n",
       "      <td>No</td>\n",
       "      <td>No</td>\n",
       "      <td>6</td>\n",
       "      <td>Sin discapacidad</td>\n",
       "    </tr>\n",
       "    <tr>\n",
       "      <th>4</th>\n",
       "      <td>7309073</td>\n",
       "      <td>Resto</td>\n",
       "      <td>202.189536</td>\n",
       "      <td>RISALRALDA</td>\n",
       "      <td>Femenino</td>\n",
       "      <td>23</td>\n",
       "      <td>Hijo(a), hijastro(a)</td>\n",
       "      <td>Si</td>\n",
       "      <td>No</td>\n",
       "      <td>Si</td>\n",
       "      <td>...</td>\n",
       "      <td>En usufructo</td>\n",
       "      <td>No</td>\n",
       "      <td>Si</td>\n",
       "      <td>No</td>\n",
       "      <td>No</td>\n",
       "      <td>No</td>\n",
       "      <td>No</td>\n",
       "      <td>No</td>\n",
       "      <td>6</td>\n",
       "      <td>Sin discapacidad</td>\n",
       "    </tr>\n",
       "  </tbody>\n",
       "</table>\n",
       "<p>5 rows × 44 columns</p>\n",
       "</div>"
      ],
      "text/plain": [
       "   DIRECTORIO ZONA_TERRITORIAL  FACTOR_EXPANSION          DPTO       SEXO  \\\n",
       "0     7309060         Cabecera       1580.677273  CUNDINAMARCA  Masculino   \n",
       "1     7309064            Resto        324.598262    RISALRALDA  Masculino   \n",
       "2     7309067            Resto        167.457366    RISALRALDA   Femenino   \n",
       "3     7309073            Resto        202.189536    RISALRALDA   Femenino   \n",
       "4     7309073            Resto        202.189536    RISALRALDA   Femenino   \n",
       "\n",
       "   EDAD                  PARENTESCO_JEFE_DE_HOGAR MADRE_RESIDE_HOGAR  \\\n",
       "0    27  Pareja, esposo(a), conyuge, companero(a)                 No   \n",
       "1    18                      Hijo(a), hijastro(a)                 Si   \n",
       "2    25                      Hijo(a), hijastro(a)                 No   \n",
       "3    27                      Hijo(a), hijastro(a)                 Si   \n",
       "4    23                      Hijo(a), hijastro(a)                 Si   \n",
       "\n",
       "  PADRE_RESIDE_HOGAR SE_CONSIDERA_CAMPESINO  ...    TIPO_OCUPACION_VIVIENDA  \\\n",
       "0                 No                     Si  ...  En arriendo o subarriendo   \n",
       "1                 No                     Si  ...  En arriendo o subarriendo   \n",
       "2                 Si                     Si  ...  Propia, totalmente pagada   \n",
       "3                 No                     Si  ...               En usufructo   \n",
       "4                 No                     Si  ...               En usufructo   \n",
       "\n",
       "  HOGAR_TIENE_CUENTA_CORRIENTE HOGAR_TIENE_CUENTA_AHORROS HOGAR_TIENE_CDT  \\\n",
       "0                           No                         Si              No   \n",
       "1                           No                         Si              No   \n",
       "2                           No                         Si              No   \n",
       "3                           No                         Si              No   \n",
       "4                           No                         Si              No   \n",
       "\n",
       "  HOGAR_TIENE_PRESTAMO_COMPRA_VIVIENDA HOGAR_TIENE_PRESTAMO_COMPRA_VEHICULO  \\\n",
       "0                                   No                                   No   \n",
       "1                                   No                                   No   \n",
       "2                                   No                                   No   \n",
       "3                                   No                                   No   \n",
       "4                                   No                                   No   \n",
       "\n",
       "  HOGAR_TIENE_PRESTAMO_LIBRE_INVERSION HOGAR_TIENE_TARJETA_CREDITO  \\\n",
       "0                                   No                          No   \n",
       "1                                   No                          No   \n",
       "2                                   No                          No   \n",
       "3                                   No                          No   \n",
       "4                                   No                          No   \n",
       "\n",
       "  NUMERO_PERSONAS_HOGAR      DISCAPACIDAD  \n",
       "0                     3  Sin discapacidad  \n",
       "1                     5  Sin discapacidad  \n",
       "2                     2  Sin discapacidad  \n",
       "3                     6  Sin discapacidad  \n",
       "4                     6  Sin discapacidad  \n",
       "\n",
       "[5 rows x 44 columns]"
      ]
     },
     "execution_count": 5,
     "metadata": {},
     "output_type": "execute_result"
    }
   ],
   "source": [
    "data.head()"
   ]
  },
  {
   "cell_type": "code",
   "execution_count": 6,
   "metadata": {},
   "outputs": [],
   "source": [
    "def calculate_group(row):\n",
    "    sexo = row['SEXO']\n",
    "    edad = row['EDAD']\n",
    "    \n",
    "    if edad < 25:\n",
    "        val = sexo + \"_younger_25\"\n",
    "    else:\n",
    "        val = sexo + \"_older_25\"\n",
    "    return val"
   ]
  },
  {
   "cell_type": "code",
   "execution_count": 8,
   "metadata": {},
   "outputs": [],
   "source": [
    "data['Grupo'] = data.apply(calculate_group, axis = 1)"
   ]
  },
  {
   "cell_type": "code",
   "execution_count": 10,
   "metadata": {},
   "outputs": [],
   "source": [
    "totales_pobla = data['Grupo'].value_counts()\n",
    "totales_minoritaria = data[data['ACTIVIDAD_OCUPADA_ULTIMA_SEMANA']==0]['Grupo'].value_counts()"
   ]
  },
  {
   "cell_type": "code",
   "execution_count": 12,
   "metadata": {},
   "outputs": [
    {
     "data": {
      "text/plain": [
       "Grupo\n",
       "Femenino_older_25       0.173485\n",
       "Femenino_younger_25     0.214385\n",
       "Masculino_older_25      0.142632\n",
       "Masculino_younger_25    0.199287\n",
       "Name: count, dtype: float64"
      ]
     },
     "execution_count": 12,
     "metadata": {},
     "output_type": "execute_result"
    }
   ],
   "source": [
    "proporciones = totales_minoritaria/totales_pobla"
   ]
  },
  {
   "cell_type": "code",
   "execution_count": 16,
   "metadata": {},
   "outputs": [
    {
     "data": {
      "text/plain": [
       "Grupo\n",
       "Masculino_younger_25    447\n",
       "Femenino_younger_25     307\n",
       "Masculino_older_25      272\n",
       "Femenino_older_25       229\n",
       "Name: count, dtype: int64"
      ]
     },
     "execution_count": 16,
     "metadata": {},
     "output_type": "execute_result"
    }
   ],
   "source": [
    "totales_minoritaria"
   ]
  },
  {
   "cell_type": "code",
   "execution_count": 17,
   "metadata": {},
   "outputs": [
    {
     "data": {
      "text/plain": [
       "Grupo\n",
       "Masculino_younger_25    2243\n",
       "Masculino_older_25      1907\n",
       "Femenino_younger_25     1432\n",
       "Femenino_older_25       1320\n",
       "Name: count, dtype: int64"
      ]
     },
     "execution_count": 17,
     "metadata": {},
     "output_type": "execute_result"
    }
   ],
   "source": [
    "totales_pobla"
   ]
  },
  {
   "cell_type": "code",
   "execution_count": null,
   "metadata": {},
   "outputs": [],
   "source": []
  }
 ],
 "metadata": {
  "kernelspec": {
   "display_name": "venv",
   "language": "python",
   "name": "python3"
  },
  "language_info": {
   "codemirror_mode": {
    "name": "ipython",
    "version": 3
   },
   "file_extension": ".py",
   "mimetype": "text/x-python",
   "name": "python",
   "nbconvert_exporter": "python",
   "pygments_lexer": "ipython3",
   "version": "3.10.6"
  }
 },
 "nbformat": 4,
 "nbformat_minor": 2
}
